{
  "cells": [
    {
      "cell_type": "code",
      "execution_count": 36,
      "metadata": {
        "id": "mEp65ktCJlGu"
      },
      "outputs": [],
      "source": [
        "import pandas as pd\n",
        "import numpy as np\n",
        "from sklearn.model_selection import train_test_split\n",
        "from sklearn.ensemble import RandomForestRegressor\n",
        "from sklearn.metrics import mean_absolute_percentage_error\n",
        "from sklearn.metrics import mean_squared_error"
      ]
    },
    {
      "cell_type": "code",
      "execution_count": 37,
      "metadata": {
        "id": "VPkhC3OBhYcv"
      },
      "outputs": [],
      "source": [
        "import warnings\n",
        "warnings.filterwarnings('ignore')"
      ]
    },
    {
      "cell_type": "code",
      "execution_count": 38,
      "metadata": {
        "id": "-APcKfQvKfwi"
      },
      "outputs": [],
      "source": [
        "# importing the dataset\n",
        "df = pd.read_csv('float_merged_updated1.csv')"
      ]
    },
    {
      "cell_type": "code",
      "execution_count": 39,
      "metadata": {
        "id": "Os8ir1_lKl1Y"
      },
      "outputs": [
        {
          "data": {
            "text/html": [
              "<div>\n",
              "<style scoped>\n",
              "    .dataframe tbody tr th:only-of-type {\n",
              "        vertical-align: middle;\n",
              "    }\n",
              "\n",
              "    .dataframe tbody tr th {\n",
              "        vertical-align: top;\n",
              "    }\n",
              "\n",
              "    .dataframe thead th {\n",
              "        text-align: right;\n",
              "    }\n",
              "</style>\n",
              "<table border=\"1\" class=\"dataframe\">\n",
              "  <thead>\n",
              "    <tr style=\"text-align: right;\">\n",
              "      <th></th>\n",
              "      <th>STATE</th>\n",
              "      <th>latitude</th>\n",
              "      <th>longitude</th>\n",
              "      <th>Number of Inhabited villages</th>\n",
              "      <th>Number of Uninhabited villages</th>\n",
              "      <th>Number of towns</th>\n",
              "      <th>Number of households</th>\n",
              "      <th>Total Population</th>\n",
              "      <th>Males Population</th>\n",
              "      <th>Females Population</th>\n",
              "      <th>Area (In sq. km)</th>\n",
              "      <th>Population per sq. km.</th>\n",
              "      <th>WIND SPEED</th>\n",
              "      <th>YEAR</th>\n",
              "      <th>STORM NAME</th>\n",
              "      <th>monetory loss</th>\n",
              "      <th>CASUALITIES</th>\n",
              "    </tr>\n",
              "  </thead>\n",
              "  <tbody>\n",
              "    <tr>\n",
              "      <th>0</th>\n",
              "      <td>ANDAMAN AND NICOBAR ISLANDS</td>\n",
              "      <td>0.108925</td>\n",
              "      <td>0.931385</td>\n",
              "      <td>0.529412</td>\n",
              "      <td>0.354839</td>\n",
              "      <td>0.6875</td>\n",
              "      <td>0.970588</td>\n",
              "      <td>0.647059</td>\n",
              "      <td>0.382353</td>\n",
              "      <td>0.205882</td>\n",
              "      <td>0.024017</td>\n",
              "      <td>0.71875</td>\n",
              "      <td>55</td>\n",
              "      <td>2013</td>\n",
              "      <td>0.075758</td>\n",
              "      <td>0.096154</td>\n",
              "      <td>0.021739</td>\n",
              "    </tr>\n",
              "    <tr>\n",
              "      <th>1</th>\n",
              "      <td>ANDAMAN AND NICOBAR ISLANDS</td>\n",
              "      <td>0.108925</td>\n",
              "      <td>0.931385</td>\n",
              "      <td>0.529412</td>\n",
              "      <td>0.354839</td>\n",
              "      <td>0.6875</td>\n",
              "      <td>0.970588</td>\n",
              "      <td>0.647059</td>\n",
              "      <td>0.382353</td>\n",
              "      <td>0.205882</td>\n",
              "      <td>0.024017</td>\n",
              "      <td>0.71875</td>\n",
              "      <td>120</td>\n",
              "      <td>2022</td>\n",
              "      <td>0.151515</td>\n",
              "      <td>0.538462</td>\n",
              "      <td>0.565217</td>\n",
              "    </tr>\n",
              "    <tr>\n",
              "      <th>2</th>\n",
              "      <td>ANDAMAN AND NICOBAR ISLANDS</td>\n",
              "      <td>0.108925</td>\n",
              "      <td>0.931385</td>\n",
              "      <td>0.529412</td>\n",
              "      <td>0.354839</td>\n",
              "      <td>0.6875</td>\n",
              "      <td>0.970588</td>\n",
              "      <td>0.647059</td>\n",
              "      <td>0.382353</td>\n",
              "      <td>0.205882</td>\n",
              "      <td>0.024017</td>\n",
              "      <td>0.71875</td>\n",
              "      <td>130</td>\n",
              "      <td>2018</td>\n",
              "      <td>0.257576</td>\n",
              "      <td>0.569231</td>\n",
              "      <td>0.652174</td>\n",
              "    </tr>\n",
              "    <tr>\n",
              "      <th>3</th>\n",
              "      <td>ANDAMAN AND NICOBAR ISLANDS</td>\n",
              "      <td>0.108925</td>\n",
              "      <td>0.931385</td>\n",
              "      <td>0.529412</td>\n",
              "      <td>0.354839</td>\n",
              "      <td>0.6875</td>\n",
              "      <td>0.970588</td>\n",
              "      <td>0.647059</td>\n",
              "      <td>0.382353</td>\n",
              "      <td>0.205882</td>\n",
              "      <td>0.024017</td>\n",
              "      <td>0.71875</td>\n",
              "      <td>100</td>\n",
              "      <td>2010</td>\n",
              "      <td>0.333333</td>\n",
              "      <td>0.461538</td>\n",
              "      <td>0.369565</td>\n",
              "    </tr>\n",
              "    <tr>\n",
              "      <th>4</th>\n",
              "      <td>ANDAMAN AND NICOBAR ISLANDS</td>\n",
              "      <td>0.108925</td>\n",
              "      <td>0.931385</td>\n",
              "      <td>0.529412</td>\n",
              "      <td>0.354839</td>\n",
              "      <td>0.6875</td>\n",
              "      <td>0.970588</td>\n",
              "      <td>0.647059</td>\n",
              "      <td>0.382353</td>\n",
              "      <td>0.205882</td>\n",
              "      <td>0.024017</td>\n",
              "      <td>0.71875</td>\n",
              "      <td>75</td>\n",
              "      <td>2017</td>\n",
              "      <td>0.454545</td>\n",
              "      <td>0.173077</td>\n",
              "      <td>0.043478</td>\n",
              "    </tr>\n",
              "  </tbody>\n",
              "</table>\n",
              "</div>"
            ],
            "text/plain": [
              "                         STATE  latitude  longitude  \\\n",
              "0  ANDAMAN AND NICOBAR ISLANDS  0.108925   0.931385   \n",
              "1  ANDAMAN AND NICOBAR ISLANDS  0.108925   0.931385   \n",
              "2  ANDAMAN AND NICOBAR ISLANDS  0.108925   0.931385   \n",
              "3  ANDAMAN AND NICOBAR ISLANDS  0.108925   0.931385   \n",
              "4  ANDAMAN AND NICOBAR ISLANDS  0.108925   0.931385   \n",
              "\n",
              "   Number of Inhabited villages  Number of Uninhabited villages  \\\n",
              "0                      0.529412                        0.354839   \n",
              "1                      0.529412                        0.354839   \n",
              "2                      0.529412                        0.354839   \n",
              "3                      0.529412                        0.354839   \n",
              "4                      0.529412                        0.354839   \n",
              "\n",
              "   Number of towns  Number of households  Total Population  Males Population  \\\n",
              "0           0.6875              0.970588          0.647059          0.382353   \n",
              "1           0.6875              0.970588          0.647059          0.382353   \n",
              "2           0.6875              0.970588          0.647059          0.382353   \n",
              "3           0.6875              0.970588          0.647059          0.382353   \n",
              "4           0.6875              0.970588          0.647059          0.382353   \n",
              "\n",
              "   Females Population  Area (In sq. km)  Population per sq. km.  WIND SPEED  \\\n",
              "0            0.205882          0.024017                 0.71875          55   \n",
              "1            0.205882          0.024017                 0.71875         120   \n",
              "2            0.205882          0.024017                 0.71875         130   \n",
              "3            0.205882          0.024017                 0.71875         100   \n",
              "4            0.205882          0.024017                 0.71875          75   \n",
              "\n",
              "   YEAR  STORM NAME  monetory loss  CASUALITIES  \n",
              "0  2013    0.075758       0.096154     0.021739  \n",
              "1  2022    0.151515       0.538462     0.565217  \n",
              "2  2018    0.257576       0.569231     0.652174  \n",
              "3  2010    0.333333       0.461538     0.369565  \n",
              "4  2017    0.454545       0.173077     0.043478  "
            ]
          },
          "execution_count": 39,
          "metadata": {},
          "output_type": "execute_result"
        }
      ],
      "source": [
        "df.head()"
      ]
    },
    {
      "cell_type": "code",
      "execution_count": 40,
      "metadata": {
        "colab": {
          "base_uri": "https://localhost:8080/"
        },
        "id": "42YW2z0PKm64",
        "outputId": "bf14b719-ebed-48b5-9fb8-da935cc3bbc3"
      },
      "outputs": [
        {
          "data": {
            "text/plain": [
              "(67, 17)"
            ]
          },
          "execution_count": 40,
          "metadata": {},
          "output_type": "execute_result"
        }
      ],
      "source": [
        "df.shape"
      ]
    },
    {
      "cell_type": "code",
      "execution_count": 41,
      "metadata": {
        "id": "HbU-w08FlA2q"
      },
      "outputs": [],
      "source": [
        "state = ''"
      ]
    },
    {
      "cell_type": "code",
      "execution_count": 42,
      "metadata": {
        "colab": {
          "base_uri": "https://localhost:8080/",
          "height": 35
        },
        "id": "cWzVkrUEm8NK",
        "outputId": "b5c98810-15f5-4574-bcc3-d567ddb2c970"
      },
      "outputs": [
        {
          "data": {
            "text/plain": [
              "''"
            ]
          },
          "execution_count": 42,
          "metadata": {},
          "output_type": "execute_result"
        }
      ],
      "source": [
        "state"
      ]
    },
    {
      "cell_type": "code",
      "execution_count": 43,
      "metadata": {
        "id": "QXDL3G3uXySy"
      },
      "outputs": [],
      "source": [
        "states = df['STATE']"
      ]
    },
    {
      "cell_type": "code",
      "execution_count": 44,
      "metadata": {
        "colab": {
          "base_uri": "https://localhost:8080/"
        },
        "id": "KUhIKgHaX2zA",
        "outputId": "70b29040-29fe-4364-a729-25a3718d30c6"
      },
      "outputs": [
        {
          "data": {
            "text/plain": [
              "['ANDAMAN AND NICOBAR ISLANDS',\n",
              " 'ANDHRA PRADESH',\n",
              " 'ASSAM',\n",
              " 'BIHAR',\n",
              " 'GOA',\n",
              " 'GUJARAT',\n",
              " 'KARNATAKA',\n",
              " 'KERALA',\n",
              " 'MADHYA PRADESH',\n",
              " 'MAHARASHTRA',\n",
              " 'MANIPUR',\n",
              " 'MEGHALAYA',\n",
              " 'MIZORAM',\n",
              " 'NAGALAND',\n",
              " 'ODISHA',\n",
              " 'TAMIL NADU',\n",
              " 'TRIPURA',\n",
              " 'WEST BENGAL']"
            ]
          },
          "execution_count": 44,
          "metadata": {},
          "output_type": "execute_result"
        }
      ],
      "source": [
        "states = states.unique().tolist()\n",
        "states"
      ]
    },
    {
      "cell_type": "code",
      "execution_count": 45,
      "metadata": {
        "id": "KxkWBMURKs7S"
      },
      "outputs": [],
      "source": [
        "state_df = df[df['STATE'] == 'WEST BENGAL'][['WIND SPEED', 'monetory loss', 'CASUALITIES']]"
      ]
    },
    {
      "cell_type": "code",
      "execution_count": 46,
      "metadata": {
        "colab": {
          "base_uri": "https://localhost:8080/",
          "height": 394
        },
        "id": "4ppbmmuCLkho",
        "outputId": "25941004-622c-4f0c-8343-b6ee3f04ef94"
      },
      "outputs": [
        {
          "data": {
            "text/html": [
              "<div>\n",
              "<style scoped>\n",
              "    .dataframe tbody tr th:only-of-type {\n",
              "        vertical-align: middle;\n",
              "    }\n",
              "\n",
              "    .dataframe tbody tr th {\n",
              "        vertical-align: top;\n",
              "    }\n",
              "\n",
              "    .dataframe thead th {\n",
              "        text-align: right;\n",
              "    }\n",
              "</style>\n",
              "<table border=\"1\" class=\"dataframe\">\n",
              "  <thead>\n",
              "    <tr style=\"text-align: right;\">\n",
              "      <th></th>\n",
              "      <th>WIND SPEED</th>\n",
              "      <th>monetory loss</th>\n",
              "      <th>CASUALITIES</th>\n",
              "    </tr>\n",
              "  </thead>\n",
              "  <tbody>\n",
              "    <tr>\n",
              "      <th>56</th>\n",
              "      <td>100</td>\n",
              "      <td>0.692308</td>\n",
              "      <td>0.630435</td>\n",
              "    </tr>\n",
              "    <tr>\n",
              "      <th>57</th>\n",
              "      <td>110</td>\n",
              "      <td>0.716252</td>\n",
              "      <td>0.891304</td>\n",
              "    </tr>\n",
              "    <tr>\n",
              "      <th>58</th>\n",
              "      <td>95</td>\n",
              "      <td>0.557692</td>\n",
              "      <td>0.608696</td>\n",
              "    </tr>\n",
              "    <tr>\n",
              "      <th>59</th>\n",
              "      <td>110</td>\n",
              "      <td>0.746252</td>\n",
              "      <td>0.869565</td>\n",
              "    </tr>\n",
              "    <tr>\n",
              "      <th>60</th>\n",
              "      <td>75</td>\n",
              "      <td>0.403846</td>\n",
              "      <td>0.456522</td>\n",
              "    </tr>\n",
              "    <tr>\n",
              "      <th>61</th>\n",
              "      <td>195</td>\n",
              "      <td>0.846154</td>\n",
              "      <td>0.934783</td>\n",
              "    </tr>\n",
              "    <tr>\n",
              "      <th>62</th>\n",
              "      <td>75</td>\n",
              "      <td>0.250000</td>\n",
              "      <td>0.086957</td>\n",
              "    </tr>\n",
              "    <tr>\n",
              "      <th>63</th>\n",
              "      <td>100</td>\n",
              "      <td>0.702308</td>\n",
              "      <td>0.673913</td>\n",
              "    </tr>\n",
              "    <tr>\n",
              "      <th>64</th>\n",
              "      <td>85</td>\n",
              "      <td>0.480769</td>\n",
              "      <td>0.413043</td>\n",
              "    </tr>\n",
              "    <tr>\n",
              "      <th>65</th>\n",
              "      <td>260</td>\n",
              "      <td>0.980769</td>\n",
              "      <td>0.953052</td>\n",
              "    </tr>\n",
              "    <tr>\n",
              "      <th>66</th>\n",
              "      <td>195</td>\n",
              "      <td>0.866154</td>\n",
              "      <td>0.913043</td>\n",
              "    </tr>\n",
              "  </tbody>\n",
              "</table>\n",
              "</div>"
            ],
            "text/plain": [
              "    WIND SPEED  monetory loss  CASUALITIES\n",
              "56         100       0.692308     0.630435\n",
              "57         110       0.716252     0.891304\n",
              "58          95       0.557692     0.608696\n",
              "59         110       0.746252     0.869565\n",
              "60          75       0.403846     0.456522\n",
              "61         195       0.846154     0.934783\n",
              "62          75       0.250000     0.086957\n",
              "63         100       0.702308     0.673913\n",
              "64          85       0.480769     0.413043\n",
              "65         260       0.980769     0.953052\n",
              "66         195       0.866154     0.913043"
            ]
          },
          "execution_count": 46,
          "metadata": {},
          "output_type": "execute_result"
        }
      ],
      "source": [
        "state_df"
      ]
    },
    {
      "cell_type": "code",
      "execution_count": 47,
      "metadata": {
        "id": "hQG89zsKLmk2"
      },
      "outputs": [],
      "source": [
        "x = state_df[['WIND SPEED']]"
      ]
    },
    {
      "cell_type": "markdown",
      "metadata": {
        "id": "dznYS2_aM0JH"
      },
      "source": [
        "# Training and Testing the model for Proerty loss and Its Prediction"
      ]
    },
    {
      "cell_type": "code",
      "execution_count": 48,
      "metadata": {
        "id": "Wdph8KbhM9NC"
      },
      "outputs": [],
      "source": [
        "pl_y = state_df['monetory loss']"
      ]
    },
    {
      "cell_type": "code",
      "execution_count": 49,
      "metadata": {
        "id": "B3uEiXPvNFBo"
      },
      "outputs": [],
      "source": [
        "x_train, x_test, pl_y_train, pl_y_test = train_test_split(x, pl_y, test_size=0.2, random_state=42)"
      ]
    },
    {
      "cell_type": "code",
      "execution_count": 50,
      "metadata": {
        "id": "lqe3vy2iWAac"
      },
      "outputs": [],
      "source": [
        "# RandomForest Regressor"
      ]
    },
    {
      "cell_type": "code",
      "execution_count": 51,
      "metadata": {
        "id": "k75Z5Y1lNnro"
      },
      "outputs": [],
      "source": [
        "pl_rf = RandomForestRegressor()"
      ]
    },
    {
      "cell_type": "code",
      "execution_count": 52,
      "metadata": {
        "colab": {
          "base_uri": "https://localhost:8080/",
          "height": 74
        },
        "id": "SeWmLXKnN-yH",
        "outputId": "36f236b6-47d3-45ea-cc6c-441f9fc9ebfb"
      },
      "outputs": [
        {
          "data": {
            "text/html": [
              "<style>#sk-container-id-3 {color: black;}#sk-container-id-3 pre{padding: 0;}#sk-container-id-3 div.sk-toggleable {background-color: white;}#sk-container-id-3 label.sk-toggleable__label {cursor: pointer;display: block;width: 100%;margin-bottom: 0;padding: 0.3em;box-sizing: border-box;text-align: center;}#sk-container-id-3 label.sk-toggleable__label-arrow:before {content: \"▸\";float: left;margin-right: 0.25em;color: #696969;}#sk-container-id-3 label.sk-toggleable__label-arrow:hover:before {color: black;}#sk-container-id-3 div.sk-estimator:hover label.sk-toggleable__label-arrow:before {color: black;}#sk-container-id-3 div.sk-toggleable__content {max-height: 0;max-width: 0;overflow: hidden;text-align: left;background-color: #f0f8ff;}#sk-container-id-3 div.sk-toggleable__content pre {margin: 0.2em;color: black;border-radius: 0.25em;background-color: #f0f8ff;}#sk-container-id-3 input.sk-toggleable__control:checked~div.sk-toggleable__content {max-height: 200px;max-width: 100%;overflow: auto;}#sk-container-id-3 input.sk-toggleable__control:checked~label.sk-toggleable__label-arrow:before {content: \"▾\";}#sk-container-id-3 div.sk-estimator input.sk-toggleable__control:checked~label.sk-toggleable__label {background-color: #d4ebff;}#sk-container-id-3 div.sk-label input.sk-toggleable__control:checked~label.sk-toggleable__label {background-color: #d4ebff;}#sk-container-id-3 input.sk-hidden--visually {border: 0;clip: rect(1px 1px 1px 1px);clip: rect(1px, 1px, 1px, 1px);height: 1px;margin: -1px;overflow: hidden;padding: 0;position: absolute;width: 1px;}#sk-container-id-3 div.sk-estimator {font-family: monospace;background-color: #f0f8ff;border: 1px dotted black;border-radius: 0.25em;box-sizing: border-box;margin-bottom: 0.5em;}#sk-container-id-3 div.sk-estimator:hover {background-color: #d4ebff;}#sk-container-id-3 div.sk-parallel-item::after {content: \"\";width: 100%;border-bottom: 1px solid gray;flex-grow: 1;}#sk-container-id-3 div.sk-label:hover label.sk-toggleable__label {background-color: #d4ebff;}#sk-container-id-3 div.sk-serial::before {content: \"\";position: absolute;border-left: 1px solid gray;box-sizing: border-box;top: 0;bottom: 0;left: 50%;z-index: 0;}#sk-container-id-3 div.sk-serial {display: flex;flex-direction: column;align-items: center;background-color: white;padding-right: 0.2em;padding-left: 0.2em;position: relative;}#sk-container-id-3 div.sk-item {position: relative;z-index: 1;}#sk-container-id-3 div.sk-parallel {display: flex;align-items: stretch;justify-content: center;background-color: white;position: relative;}#sk-container-id-3 div.sk-item::before, #sk-container-id-3 div.sk-parallel-item::before {content: \"\";position: absolute;border-left: 1px solid gray;box-sizing: border-box;top: 0;bottom: 0;left: 50%;z-index: -1;}#sk-container-id-3 div.sk-parallel-item {display: flex;flex-direction: column;z-index: 1;position: relative;background-color: white;}#sk-container-id-3 div.sk-parallel-item:first-child::after {align-self: flex-end;width: 50%;}#sk-container-id-3 div.sk-parallel-item:last-child::after {align-self: flex-start;width: 50%;}#sk-container-id-3 div.sk-parallel-item:only-child::after {width: 0;}#sk-container-id-3 div.sk-dashed-wrapped {border: 1px dashed gray;margin: 0 0.4em 0.5em 0.4em;box-sizing: border-box;padding-bottom: 0.4em;background-color: white;}#sk-container-id-3 div.sk-label label {font-family: monospace;font-weight: bold;display: inline-block;line-height: 1.2em;}#sk-container-id-3 div.sk-label-container {text-align: center;}#sk-container-id-3 div.sk-container {/* jupyter's `normalize.less` sets `[hidden] { display: none; }` but bootstrap.min.css set `[hidden] { display: none !important; }` so we also need the `!important` here to be able to override the default hidden behavior on the sphinx rendered scikit-learn.org. See: https://github.com/scikit-learn/scikit-learn/issues/21755 */display: inline-block !important;position: relative;}#sk-container-id-3 div.sk-text-repr-fallback {display: none;}</style><div id=\"sk-container-id-3\" class=\"sk-top-container\"><div class=\"sk-text-repr-fallback\"><pre>RandomForestRegressor()</pre><b>In a Jupyter environment, please rerun this cell to show the HTML representation or trust the notebook. <br />On GitHub, the HTML representation is unable to render, please try loading this page with nbviewer.org.</b></div><div class=\"sk-container\" hidden><div class=\"sk-item\"><div class=\"sk-estimator sk-toggleable\"><input class=\"sk-toggleable__control sk-hidden--visually\" id=\"sk-estimator-id-3\" type=\"checkbox\" checked><label for=\"sk-estimator-id-3\" class=\"sk-toggleable__label sk-toggleable__label-arrow\">RandomForestRegressor</label><div class=\"sk-toggleable__content\"><pre>RandomForestRegressor()</pre></div></div></div></div></div>"
            ],
            "text/plain": [
              "RandomForestRegressor()"
            ]
          },
          "execution_count": 52,
          "metadata": {},
          "output_type": "execute_result"
        }
      ],
      "source": [
        "pl_rf.fit(x_train, pl_y_train)"
      ]
    },
    {
      "cell_type": "code",
      "execution_count": 53,
      "metadata": {
        "id": "ck-eKHjhN0cY"
      },
      "outputs": [],
      "source": [
        "pl_y_pred=pl_rf.predict(x_test)"
      ]
    },
    {
      "cell_type": "code",
      "execution_count": 54,
      "metadata": {
        "colab": {
          "base_uri": "https://localhost:8080/"
        },
        "id": "rqeuFPaPN6oL",
        "outputId": "65d45c13-e2b4-4024-b9ee-8a88c4b0eea5"
      },
      "outputs": [
        {
          "data": {
            "text/plain": [
              "0.009897829104425198"
            ]
          },
          "execution_count": 54,
          "metadata": {},
          "output_type": "execute_result"
        }
      ],
      "source": [
        "# Checking for Model Error Rate\n",
        "mean_squared_error(pl_y_test, pl_y_pred)"
      ]
    },
    {
      "cell_type": "code",
      "execution_count": 55,
      "metadata": {
        "id": "Wr2W_WlYP1_4"
      },
      "outputs": [],
      "source": [
        "def property_loss_prediction(wind_speed):\n",
        "    return pl_rf.predict([[wind_speed]])[0].tolist()"
      ]
    },
    {
      "cell_type": "code",
      "execution_count": 56,
      "metadata": {
        "colab": {
          "base_uri": "https://localhost:8080/"
        },
        "id": "__DaqumGQFWF",
        "outputId": "a27975eb-c9bf-4277-d81c-7d0e17feb794"
      },
      "outputs": [
        {
          "data": {
            "text/plain": [
              "0.6701024784299997"
            ]
          },
          "execution_count": 56,
          "metadata": {},
          "output_type": "execute_result"
        }
      ],
      "source": [
        "property_loss_prediction(100)"
      ]
    },
    {
      "cell_type": "markdown",
      "metadata": {
        "id": "KDKWjm2PQLzA"
      },
      "source": [
        "# Training and Testing the model for Casualties and Its Prediction"
      ]
    },
    {
      "cell_type": "code",
      "execution_count": 57,
      "metadata": {
        "id": "KjWGLlS7QJDG"
      },
      "outputs": [],
      "source": [
        "c_y = state_df['CASUALITIES']"
      ]
    },
    {
      "cell_type": "code",
      "execution_count": 58,
      "metadata": {
        "id": "_qRv9FqPTFJQ"
      },
      "outputs": [],
      "source": [
        "x_train, x_test, c_y_train, c_y_test = train_test_split(x, c_y, test_size=0.2, random_state=42)"
      ]
    },
    {
      "cell_type": "code",
      "execution_count": 59,
      "metadata": {
        "id": "lD0jJgEKTn2f"
      },
      "outputs": [],
      "source": [
        "c_rf = RandomForestRegressor()"
      ]
    },
    {
      "cell_type": "code",
      "execution_count": 60,
      "metadata": {
        "colab": {
          "base_uri": "https://localhost:8080/",
          "height": 74
        },
        "id": "teH97dIlTPTi",
        "outputId": "356fc255-ad3f-460a-885b-32266aa175d6"
      },
      "outputs": [
        {
          "data": {
            "text/html": [
              "<style>#sk-container-id-4 {color: black;}#sk-container-id-4 pre{padding: 0;}#sk-container-id-4 div.sk-toggleable {background-color: white;}#sk-container-id-4 label.sk-toggleable__label {cursor: pointer;display: block;width: 100%;margin-bottom: 0;padding: 0.3em;box-sizing: border-box;text-align: center;}#sk-container-id-4 label.sk-toggleable__label-arrow:before {content: \"▸\";float: left;margin-right: 0.25em;color: #696969;}#sk-container-id-4 label.sk-toggleable__label-arrow:hover:before {color: black;}#sk-container-id-4 div.sk-estimator:hover label.sk-toggleable__label-arrow:before {color: black;}#sk-container-id-4 div.sk-toggleable__content {max-height: 0;max-width: 0;overflow: hidden;text-align: left;background-color: #f0f8ff;}#sk-container-id-4 div.sk-toggleable__content pre {margin: 0.2em;color: black;border-radius: 0.25em;background-color: #f0f8ff;}#sk-container-id-4 input.sk-toggleable__control:checked~div.sk-toggleable__content {max-height: 200px;max-width: 100%;overflow: auto;}#sk-container-id-4 input.sk-toggleable__control:checked~label.sk-toggleable__label-arrow:before {content: \"▾\";}#sk-container-id-4 div.sk-estimator input.sk-toggleable__control:checked~label.sk-toggleable__label {background-color: #d4ebff;}#sk-container-id-4 div.sk-label input.sk-toggleable__control:checked~label.sk-toggleable__label {background-color: #d4ebff;}#sk-container-id-4 input.sk-hidden--visually {border: 0;clip: rect(1px 1px 1px 1px);clip: rect(1px, 1px, 1px, 1px);height: 1px;margin: -1px;overflow: hidden;padding: 0;position: absolute;width: 1px;}#sk-container-id-4 div.sk-estimator {font-family: monospace;background-color: #f0f8ff;border: 1px dotted black;border-radius: 0.25em;box-sizing: border-box;margin-bottom: 0.5em;}#sk-container-id-4 div.sk-estimator:hover {background-color: #d4ebff;}#sk-container-id-4 div.sk-parallel-item::after {content: \"\";width: 100%;border-bottom: 1px solid gray;flex-grow: 1;}#sk-container-id-4 div.sk-label:hover label.sk-toggleable__label {background-color: #d4ebff;}#sk-container-id-4 div.sk-serial::before {content: \"\";position: absolute;border-left: 1px solid gray;box-sizing: border-box;top: 0;bottom: 0;left: 50%;z-index: 0;}#sk-container-id-4 div.sk-serial {display: flex;flex-direction: column;align-items: center;background-color: white;padding-right: 0.2em;padding-left: 0.2em;position: relative;}#sk-container-id-4 div.sk-item {position: relative;z-index: 1;}#sk-container-id-4 div.sk-parallel {display: flex;align-items: stretch;justify-content: center;background-color: white;position: relative;}#sk-container-id-4 div.sk-item::before, #sk-container-id-4 div.sk-parallel-item::before {content: \"\";position: absolute;border-left: 1px solid gray;box-sizing: border-box;top: 0;bottom: 0;left: 50%;z-index: -1;}#sk-container-id-4 div.sk-parallel-item {display: flex;flex-direction: column;z-index: 1;position: relative;background-color: white;}#sk-container-id-4 div.sk-parallel-item:first-child::after {align-self: flex-end;width: 50%;}#sk-container-id-4 div.sk-parallel-item:last-child::after {align-self: flex-start;width: 50%;}#sk-container-id-4 div.sk-parallel-item:only-child::after {width: 0;}#sk-container-id-4 div.sk-dashed-wrapped {border: 1px dashed gray;margin: 0 0.4em 0.5em 0.4em;box-sizing: border-box;padding-bottom: 0.4em;background-color: white;}#sk-container-id-4 div.sk-label label {font-family: monospace;font-weight: bold;display: inline-block;line-height: 1.2em;}#sk-container-id-4 div.sk-label-container {text-align: center;}#sk-container-id-4 div.sk-container {/* jupyter's `normalize.less` sets `[hidden] { display: none; }` but bootstrap.min.css set `[hidden] { display: none !important; }` so we also need the `!important` here to be able to override the default hidden behavior on the sphinx rendered scikit-learn.org. See: https://github.com/scikit-learn/scikit-learn/issues/21755 */display: inline-block !important;position: relative;}#sk-container-id-4 div.sk-text-repr-fallback {display: none;}</style><div id=\"sk-container-id-4\" class=\"sk-top-container\"><div class=\"sk-text-repr-fallback\"><pre>RandomForestRegressor()</pre><b>In a Jupyter environment, please rerun this cell to show the HTML representation or trust the notebook. <br />On GitHub, the HTML representation is unable to render, please try loading this page with nbviewer.org.</b></div><div class=\"sk-container\" hidden><div class=\"sk-item\"><div class=\"sk-estimator sk-toggleable\"><input class=\"sk-toggleable__control sk-hidden--visually\" id=\"sk-estimator-id-4\" type=\"checkbox\" checked><label for=\"sk-estimator-id-4\" class=\"sk-toggleable__label sk-toggleable__label-arrow\">RandomForestRegressor</label><div class=\"sk-toggleable__content\"><pre>RandomForestRegressor()</pre></div></div></div></div></div>"
            ],
            "text/plain": [
              "RandomForestRegressor()"
            ]
          },
          "execution_count": 60,
          "metadata": {},
          "output_type": "execute_result"
        }
      ],
      "source": [
        "c_rf.fit(x_train, c_y_train)"
      ]
    },
    {
      "cell_type": "code",
      "execution_count": 61,
      "metadata": {
        "id": "ZK1CqOjED8x0"
      },
      "outputs": [],
      "source": [
        "c_y_pred=c_rf.predict(x_test)"
      ]
    },
    {
      "cell_type": "code",
      "execution_count": 62,
      "metadata": {
        "colab": {
          "base_uri": "https://localhost:8080/"
        },
        "id": "gXUNDCjpDTcy",
        "outputId": "153d7a53-5d28-4418-cc1e-2c345c7ebf98"
      },
      "outputs": [
        {
          "data": {
            "text/plain": [
              "0.0019434696327401458"
            ]
          },
          "execution_count": 62,
          "metadata": {},
          "output_type": "execute_result"
        }
      ],
      "source": [
        "# Checking for Model Error Rate\n",
        "mean_squared_error(c_y_test, c_y_pred)"
      ]
    },
    {
      "cell_type": "code",
      "execution_count": 63,
      "metadata": {
        "colab": {
          "base_uri": "https://localhost:8080/"
        },
        "id": "7D9_xqrOTRdx",
        "outputId": "b166c443-fc42-41cb-d04a-33d837d6b5ac"
      },
      "outputs": [
        {
          "data": {
            "text/plain": [
              "0.2819637681603332"
            ]
          },
          "execution_count": 63,
          "metadata": {},
          "output_type": "execute_result"
        }
      ],
      "source": [
        "c_rf.predict([[70]])[0]"
      ]
    },
    {
      "cell_type": "code",
      "execution_count": 64,
      "metadata": {
        "id": "8hsYSF6jTroL"
      },
      "outputs": [],
      "source": [
        "def casualties_prediction(wind_speed):\n",
        "    return c_rf.predict([[wind_speed]])[0].tolist()"
      ]
    },
    {
      "cell_type": "code",
      "execution_count": 65,
      "metadata": {
        "colab": {
          "base_uri": "https://localhost:8080/"
        },
        "id": "O_5XxTbXUCcY",
        "outputId": "e1326dc1-56f3-40a6-b27b-b36f19af92a5"
      },
      "outputs": [
        {
          "data": {
            "text/plain": [
              "0.2819637681603332"
            ]
          },
          "execution_count": 65,
          "metadata": {},
          "output_type": "execute_result"
        }
      ],
      "source": [
        "casualties_prediction(70)"
      ]
    },
    {
      "cell_type": "markdown",
      "metadata": {
        "id": "vRC28C15UGkk"
      },
      "source": [
        "# Making Functions for whole"
      ]
    },
    {
      "cell_type": "code",
      "execution_count": 66,
      "metadata": {
        "id": "3HwojVYTUO2c"
      },
      "outputs": [],
      "source": [
        "def all_predictions(state, wind_speed):\n",
        "    # Training 80% and Testing 20%\n",
        "    state_df = df[df['STATE'] == state][['WIND SPEED', 'monetory loss', 'CASUALITIES']]\n",
        "    x = state_df[['WIND SPEED']]\n",
        "\n",
        "    # Training and Testing the model for Proerty loss and Its Prediction\n",
        "    pl_y = state_df['monetory loss']\n",
        "    x_train, x_test, pl_y_train, pl_y_test = train_test_split(x, pl_y, test_size=0.2, random_state=42)\n",
        "    pl_rf = RandomForestRegressor()\n",
        "    pl_rf.fit(x_train, pl_y_train)\n",
        "\n",
        "    def property_loss_prediction(wind_speed):\n",
        "        return pl_rf.predict([[wind_speed]])[0].tolist()\n",
        "\n",
        "    # Training and Testing the model for Casualties and Its Prediction\n",
        "    c_y = state_df['CASUALITIES']\n",
        "    x_train, x_test, c_y_train, c_y_test = train_test_split(x, c_y, test_size=0.2, random_state=42)\n",
        "    c_rf = RandomForestRegressor()\n",
        "    c_rf.fit(x_train, c_y_train)\n",
        "\n",
        "    def casualties_prediction(wind_speed):\n",
        "        return c_rf.predict([[wind_speed]])[0].tolist()\n",
        "    \n",
        "    \n",
        "    # Getting the values\n",
        "    property_loss = property_loss_prediction(wind_speed)\n",
        "    casualties = casualties_prediction(wind_speed)\n",
        "    return (property_loss, casualties)"
      ]
    },
    {
      "cell_type": "markdown",
      "metadata": {
        "id": "4gYjNA0XU0dg"
      },
      "source": [
        "# Making a Gradio Application"
      ]
    },
    {
      "cell_type": "code",
      "execution_count": 67,
      "metadata": {
        "id": "13WkvdEMVEN4"
      },
      "outputs": [],
      "source": [
        "%%capture\n",
        "%pip install gradio -q"
      ]
    },
    {
      "cell_type": "code",
      "execution_count": 68,
      "metadata": {
        "id": "_FlPuKGBUtGm"
      },
      "outputs": [],
      "source": [
        "import gradio as gr"
      ]
    },
    {
      "cell_type": "code",
      "execution_count": 69,
      "metadata": {
        "colab": {
          "base_uri": "https://localhost:8080/",
          "height": 610
        },
        "id": "OEBlUkqWU-p-",
        "outputId": "8eb19ebb-d653-403f-99cf-121938cacd37"
      },
      "outputs": [
        {
          "name": "stdout",
          "output_type": "stream",
          "text": [
            "Running on local URL:  http://127.0.0.1:7861\n",
            "\n",
            "Could not create share link. Please check your internet connection or our status page: https://status.gradio.app.\n"
          ]
        },
        {
          "data": {
            "text/html": [
              "<div><iframe src=\"http://127.0.0.1:7861/\" width=\"100%\" height=\"500\" allow=\"autoplay; camera; microphone; clipboard-read; clipboard-write;\" frameborder=\"0\" allowfullscreen></iframe></div>"
            ],
            "text/plain": [
              "<IPython.core.display.HTML object>"
            ]
          },
          "metadata": {},
          "output_type": "display_data"
        },
        {
          "data": {
            "text/plain": []
          },
          "execution_count": 69,
          "metadata": {},
          "output_type": "execute_result"
        }
      ],
      "source": [
        "cyclone_predictor = gr.Interface(\n",
        "    title = 'Cyclone Predictor',\n",
        "    description = 'It takes the wind speed as km/h and returns the predicted property loss and casualties',\n",
        "    fn = all_predictions,\n",
        "    inputs = [gr.Dropdown(states, label='Select the State'),\n",
        "                gr.Number(label='Enter the wind speed in km/h', minimum=85, maximum=200,\n",
        "                          info='Minumum wind speed can be 85 Km/h and Maximum wind speed can be 200 km/h')\n",
        "            ],\n",
        "    outputs = [gr.Number(label='The Predicted Property Loss'),\n",
        "               gr.Number(label='The Predicted Casualties')\n",
        "            ],\n",
        "    allow_flagging = \"never\"\n",
        ")\n",
        "\n",
        "cyclone_predictor.launch(share=True)"
      ]
    }
  ],
  "metadata": {
    "colab": {
      "provenance": []
    },
    "kernelspec": {
      "display_name": "Python 3",
      "name": "python3"
    },
    "language_info": {
      "codemirror_mode": {
        "name": "ipython",
        "version": 3
      },
      "file_extension": ".py",
      "mimetype": "text/x-python",
      "name": "python",
      "nbconvert_exporter": "python",
      "pygments_lexer": "ipython3",
      "version": "3.12.2"
    }
  },
  "nbformat": 4,
  "nbformat_minor": 0
}
