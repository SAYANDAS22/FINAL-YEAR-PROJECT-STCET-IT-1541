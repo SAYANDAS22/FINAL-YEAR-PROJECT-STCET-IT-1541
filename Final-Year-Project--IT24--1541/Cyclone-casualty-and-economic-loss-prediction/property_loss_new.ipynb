{
 "cells": [
  {
   "cell_type": "code",
   "execution_count": 23,
   "metadata": {},
   "outputs": [],
   "source": [
    "import pandas as pd \n",
    "import numpy as np"
   ]
  },
  {
   "cell_type": "code",
   "execution_count": 24,
   "metadata": {},
   "outputs": [],
   "source": [
    "dataset = pd.read_csv('float_merged.csv')"
   ]
  },
  {
   "cell_type": "code",
   "execution_count": 25,
   "metadata": {},
   "outputs": [
    {
     "data": {
      "text/html": [
       "<div>\n",
       "<style scoped>\n",
       "    .dataframe tbody tr th:only-of-type {\n",
       "        vertical-align: middle;\n",
       "    }\n",
       "\n",
       "    .dataframe tbody tr th {\n",
       "        vertical-align: top;\n",
       "    }\n",
       "\n",
       "    .dataframe thead th {\n",
       "        text-align: right;\n",
       "    }\n",
       "</style>\n",
       "<table border=\"1\" class=\"dataframe\">\n",
       "  <thead>\n",
       "    <tr style=\"text-align: right;\">\n",
       "      <th></th>\n",
       "      <th>STATE</th>\n",
       "      <th>latitude</th>\n",
       "      <th>longitude</th>\n",
       "      <th>Number of Inhabited villages</th>\n",
       "      <th>Number of Uninhabited villages</th>\n",
       "      <th>Number of towns</th>\n",
       "      <th>Number of households</th>\n",
       "      <th>Total Population</th>\n",
       "      <th>Males Population</th>\n",
       "      <th>Females Population</th>\n",
       "      <th>Area (In sq. km)</th>\n",
       "      <th>Population per sq. km.</th>\n",
       "      <th>WIND SPEED</th>\n",
       "      <th>YEAR</th>\n",
       "      <th>STORM NAME</th>\n",
       "      <th>monetory loss</th>\n",
       "      <th>CASUALITIES</th>\n",
       "    </tr>\n",
       "  </thead>\n",
       "  <tbody>\n",
       "    <tr>\n",
       "      <th>0</th>\n",
       "      <td>ANDAMAN AND NICOBAR ISLANDS</td>\n",
       "      <td>0.108925</td>\n",
       "      <td>0.931385</td>\n",
       "      <td>0.529412</td>\n",
       "      <td>0.354839</td>\n",
       "      <td>0.6875</td>\n",
       "      <td>0.970588</td>\n",
       "      <td>0.647059</td>\n",
       "      <td>0.382353</td>\n",
       "      <td>0.205882</td>\n",
       "      <td>0.024017</td>\n",
       "      <td>0.71875</td>\n",
       "      <td>55.0</td>\n",
       "      <td>2013</td>\n",
       "      <td>0.075758</td>\n",
       "      <td>0.173077</td>\n",
       "      <td>0.369565</td>\n",
       "    </tr>\n",
       "    <tr>\n",
       "      <th>1</th>\n",
       "      <td>ANDAMAN AND NICOBAR ISLANDS</td>\n",
       "      <td>0.108925</td>\n",
       "      <td>0.931385</td>\n",
       "      <td>0.529412</td>\n",
       "      <td>0.354839</td>\n",
       "      <td>0.6875</td>\n",
       "      <td>0.970588</td>\n",
       "      <td>0.647059</td>\n",
       "      <td>0.382353</td>\n",
       "      <td>0.205882</td>\n",
       "      <td>0.024017</td>\n",
       "      <td>0.71875</td>\n",
       "      <td>120.0</td>\n",
       "      <td>2022</td>\n",
       "      <td>0.151515</td>\n",
       "      <td>0.211538</td>\n",
       "      <td>0.565217</td>\n",
       "    </tr>\n",
       "    <tr>\n",
       "      <th>2</th>\n",
       "      <td>ANDAMAN AND NICOBAR ISLANDS</td>\n",
       "      <td>0.108925</td>\n",
       "      <td>0.931385</td>\n",
       "      <td>0.529412</td>\n",
       "      <td>0.354839</td>\n",
       "      <td>0.6875</td>\n",
       "      <td>0.970588</td>\n",
       "      <td>0.647059</td>\n",
       "      <td>0.382353</td>\n",
       "      <td>0.205882</td>\n",
       "      <td>0.024017</td>\n",
       "      <td>0.71875</td>\n",
       "      <td>130.0</td>\n",
       "      <td>2018</td>\n",
       "      <td>0.257576</td>\n",
       "      <td>0.826923</td>\n",
       "      <td>0.782609</td>\n",
       "    </tr>\n",
       "    <tr>\n",
       "      <th>3</th>\n",
       "      <td>ANDAMAN AND NICOBAR ISLANDS</td>\n",
       "      <td>0.108925</td>\n",
       "      <td>0.931385</td>\n",
       "      <td>0.529412</td>\n",
       "      <td>0.354839</td>\n",
       "      <td>0.6875</td>\n",
       "      <td>0.970588</td>\n",
       "      <td>0.647059</td>\n",
       "      <td>0.382353</td>\n",
       "      <td>0.205882</td>\n",
       "      <td>0.024017</td>\n",
       "      <td>0.71875</td>\n",
       "      <td>100.0</td>\n",
       "      <td>2010</td>\n",
       "      <td>0.333333</td>\n",
       "      <td>0.000000</td>\n",
       "      <td>0.173913</td>\n",
       "    </tr>\n",
       "    <tr>\n",
       "      <th>4</th>\n",
       "      <td>ANDAMAN AND NICOBAR ISLANDS</td>\n",
       "      <td>0.108925</td>\n",
       "      <td>0.931385</td>\n",
       "      <td>0.529412</td>\n",
       "      <td>0.354839</td>\n",
       "      <td>0.6875</td>\n",
       "      <td>0.970588</td>\n",
       "      <td>0.647059</td>\n",
       "      <td>0.382353</td>\n",
       "      <td>0.205882</td>\n",
       "      <td>0.024017</td>\n",
       "      <td>0.71875</td>\n",
       "      <td>75.0</td>\n",
       "      <td>2017</td>\n",
       "      <td>0.454545</td>\n",
       "      <td>0.461538</td>\n",
       "      <td>0.652174</td>\n",
       "    </tr>\n",
       "  </tbody>\n",
       "</table>\n",
       "</div>"
      ],
      "text/plain": [
       "                         STATE  latitude  longitude  \\\n",
       "0  ANDAMAN AND NICOBAR ISLANDS  0.108925   0.931385   \n",
       "1  ANDAMAN AND NICOBAR ISLANDS  0.108925   0.931385   \n",
       "2  ANDAMAN AND NICOBAR ISLANDS  0.108925   0.931385   \n",
       "3  ANDAMAN AND NICOBAR ISLANDS  0.108925   0.931385   \n",
       "4  ANDAMAN AND NICOBAR ISLANDS  0.108925   0.931385   \n",
       "\n",
       "   Number of Inhabited villages  Number of Uninhabited villages  \\\n",
       "0                      0.529412                        0.354839   \n",
       "1                      0.529412                        0.354839   \n",
       "2                      0.529412                        0.354839   \n",
       "3                      0.529412                        0.354839   \n",
       "4                      0.529412                        0.354839   \n",
       "\n",
       "   Number of towns  Number of households  Total Population  Males Population  \\\n",
       "0           0.6875              0.970588          0.647059          0.382353   \n",
       "1           0.6875              0.970588          0.647059          0.382353   \n",
       "2           0.6875              0.970588          0.647059          0.382353   \n",
       "3           0.6875              0.970588          0.647059          0.382353   \n",
       "4           0.6875              0.970588          0.647059          0.382353   \n",
       "\n",
       "   Females Population  Area (In sq. km)  Population per sq. km.  WIND SPEED  \\\n",
       "0            0.205882          0.024017                 0.71875        55.0   \n",
       "1            0.205882          0.024017                 0.71875       120.0   \n",
       "2            0.205882          0.024017                 0.71875       130.0   \n",
       "3            0.205882          0.024017                 0.71875       100.0   \n",
       "4            0.205882          0.024017                 0.71875        75.0   \n",
       "\n",
       "   YEAR  STORM NAME  monetory loss  CASUALITIES  \n",
       "0  2013    0.075758       0.173077     0.369565  \n",
       "1  2022    0.151515       0.211538     0.565217  \n",
       "2  2018    0.257576       0.826923     0.782609  \n",
       "3  2010    0.333333       0.000000     0.173913  \n",
       "4  2017    0.454545       0.461538     0.652174  "
      ]
     },
     "execution_count": 25,
     "metadata": {},
     "output_type": "execute_result"
    }
   ],
   "source": [
    "dataset.head()"
   ]
  },
  {
   "cell_type": "code",
   "execution_count": 26,
   "metadata": {},
   "outputs": [
    {
     "name": "stdout",
     "output_type": "stream",
     "text": [
      "<class 'pandas.core.frame.DataFrame'>\n",
      "RangeIndex: 67 entries, 0 to 66\n",
      "Data columns (total 17 columns):\n",
      " #   Column                          Non-Null Count  Dtype  \n",
      "---  ------                          --------------  -----  \n",
      " 0   STATE                           67 non-null     object \n",
      " 1   latitude                        67 non-null     float64\n",
      " 2   longitude                       67 non-null     float64\n",
      " 3   Number of Inhabited villages    67 non-null     float64\n",
      " 4   Number of Uninhabited villages  67 non-null     float64\n",
      " 5   Number of towns                 67 non-null     float64\n",
      " 6   Number of households            67 non-null     float64\n",
      " 7   Total Population                67 non-null     float64\n",
      " 8   Males Population                67 non-null     float64\n",
      " 9   Females Population              67 non-null     float64\n",
      " 10  Area (In sq. km)                67 non-null     float64\n",
      " 11  Population per sq. km.          67 non-null     float64\n",
      " 12  WIND SPEED                      67 non-null     float64\n",
      " 13  YEAR                            67 non-null     int64  \n",
      " 14  STORM NAME                      67 non-null     float64\n",
      " 15  monetory loss                   67 non-null     float64\n",
      " 16  CASUALITIES                     67 non-null     float64\n",
      "dtypes: float64(15), int64(1), object(1)\n",
      "memory usage: 9.0+ KB\n"
     ]
    }
   ],
   "source": [
    "dataset.info()"
   ]
  },
  {
   "cell_type": "code",
   "execution_count": 27,
   "metadata": {},
   "outputs": [
    {
     "data": {
      "text/plain": [
       "STATE                             0\n",
       "latitude                          0\n",
       "longitude                         0\n",
       "Number of Inhabited villages      0\n",
       "Number of Uninhabited villages    0\n",
       "Number of towns                   0\n",
       "Number of households              0\n",
       "Total Population                  0\n",
       "Males Population                  0\n",
       "Females Population                0\n",
       "Area (In sq. km)                  0\n",
       "Population per sq. km.            0\n",
       "WIND SPEED                        0\n",
       "YEAR                              0\n",
       "STORM NAME                        0\n",
       "monetory loss                     0\n",
       "CASUALITIES                       0\n",
       "dtype: int64"
      ]
     },
     "execution_count": 27,
     "metadata": {},
     "output_type": "execute_result"
    }
   ],
   "source": [
    "dataset.isna().sum()"
   ]
  },
  {
   "cell_type": "code",
   "execution_count": 28,
   "metadata": {},
   "outputs": [],
   "source": [
    "from sklearn.ensemble import RandomForestRegressor\n",
    "from sklearn.metrics import mean_absolute_error\n",
    "from sklearn.model_selection import train_test_split"
   ]
  },
  {
   "cell_type": "code",
   "execution_count": 29,
   "metadata": {},
   "outputs": [],
   "source": [
    "X = dataset[['latitude', 'longitude', 'WIND SPEED']]\n",
    "y = dataset['monetory loss']"
   ]
  },
  {
   "cell_type": "code",
   "execution_count": 30,
   "metadata": {},
   "outputs": [
    {
     "data": {
      "text/html": [
       "<style>#sk-container-id-1 {color: black;}#sk-container-id-1 pre{padding: 0;}#sk-container-id-1 div.sk-toggleable {background-color: white;}#sk-container-id-1 label.sk-toggleable__label {cursor: pointer;display: block;width: 100%;margin-bottom: 0;padding: 0.3em;box-sizing: border-box;text-align: center;}#sk-container-id-1 label.sk-toggleable__label-arrow:before {content: \"▸\";float: left;margin-right: 0.25em;color: #696969;}#sk-container-id-1 label.sk-toggleable__label-arrow:hover:before {color: black;}#sk-container-id-1 div.sk-estimator:hover label.sk-toggleable__label-arrow:before {color: black;}#sk-container-id-1 div.sk-toggleable__content {max-height: 0;max-width: 0;overflow: hidden;text-align: left;background-color: #f0f8ff;}#sk-container-id-1 div.sk-toggleable__content pre {margin: 0.2em;color: black;border-radius: 0.25em;background-color: #f0f8ff;}#sk-container-id-1 input.sk-toggleable__control:checked~div.sk-toggleable__content {max-height: 200px;max-width: 100%;overflow: auto;}#sk-container-id-1 input.sk-toggleable__control:checked~label.sk-toggleable__label-arrow:before {content: \"▾\";}#sk-container-id-1 div.sk-estimator input.sk-toggleable__control:checked~label.sk-toggleable__label {background-color: #d4ebff;}#sk-container-id-1 div.sk-label input.sk-toggleable__control:checked~label.sk-toggleable__label {background-color: #d4ebff;}#sk-container-id-1 input.sk-hidden--visually {border: 0;clip: rect(1px 1px 1px 1px);clip: rect(1px, 1px, 1px, 1px);height: 1px;margin: -1px;overflow: hidden;padding: 0;position: absolute;width: 1px;}#sk-container-id-1 div.sk-estimator {font-family: monospace;background-color: #f0f8ff;border: 1px dotted black;border-radius: 0.25em;box-sizing: border-box;margin-bottom: 0.5em;}#sk-container-id-1 div.sk-estimator:hover {background-color: #d4ebff;}#sk-container-id-1 div.sk-parallel-item::after {content: \"\";width: 100%;border-bottom: 1px solid gray;flex-grow: 1;}#sk-container-id-1 div.sk-label:hover label.sk-toggleable__label {background-color: #d4ebff;}#sk-container-id-1 div.sk-serial::before {content: \"\";position: absolute;border-left: 1px solid gray;box-sizing: border-box;top: 0;bottom: 0;left: 50%;z-index: 0;}#sk-container-id-1 div.sk-serial {display: flex;flex-direction: column;align-items: center;background-color: white;padding-right: 0.2em;padding-left: 0.2em;position: relative;}#sk-container-id-1 div.sk-item {position: relative;z-index: 1;}#sk-container-id-1 div.sk-parallel {display: flex;align-items: stretch;justify-content: center;background-color: white;position: relative;}#sk-container-id-1 div.sk-item::before, #sk-container-id-1 div.sk-parallel-item::before {content: \"\";position: absolute;border-left: 1px solid gray;box-sizing: border-box;top: 0;bottom: 0;left: 50%;z-index: -1;}#sk-container-id-1 div.sk-parallel-item {display: flex;flex-direction: column;z-index: 1;position: relative;background-color: white;}#sk-container-id-1 div.sk-parallel-item:first-child::after {align-self: flex-end;width: 50%;}#sk-container-id-1 div.sk-parallel-item:last-child::after {align-self: flex-start;width: 50%;}#sk-container-id-1 div.sk-parallel-item:only-child::after {width: 0;}#sk-container-id-1 div.sk-dashed-wrapped {border: 1px dashed gray;margin: 0 0.4em 0.5em 0.4em;box-sizing: border-box;padding-bottom: 0.4em;background-color: white;}#sk-container-id-1 div.sk-label label {font-family: monospace;font-weight: bold;display: inline-block;line-height: 1.2em;}#sk-container-id-1 div.sk-label-container {text-align: center;}#sk-container-id-1 div.sk-container {/* jupyter's `normalize.less` sets `[hidden] { display: none; }` but bootstrap.min.css set `[hidden] { display: none !important; }` so we also need the `!important` here to be able to override the default hidden behavior on the sphinx rendered scikit-learn.org. See: https://github.com/scikit-learn/scikit-learn/issues/21755 */display: inline-block !important;position: relative;}#sk-container-id-1 div.sk-text-repr-fallback {display: none;}</style><div id=\"sk-container-id-1\" class=\"sk-top-container\"><div class=\"sk-text-repr-fallback\"><pre>RandomForestRegressor(random_state=18)</pre><b>In a Jupyter environment, please rerun this cell to show the HTML representation or trust the notebook. <br />On GitHub, the HTML representation is unable to render, please try loading this page with nbviewer.org.</b></div><div class=\"sk-container\" hidden><div class=\"sk-item\"><div class=\"sk-estimator sk-toggleable\"><input class=\"sk-toggleable__control sk-hidden--visually\" id=\"sk-estimator-id-1\" type=\"checkbox\" checked><label for=\"sk-estimator-id-1\" class=\"sk-toggleable__label sk-toggleable__label-arrow\">RandomForestRegressor</label><div class=\"sk-toggleable__content\"><pre>RandomForestRegressor(random_state=18)</pre></div></div></div></div></div>"
      ],
      "text/plain": [
       "RandomForestRegressor(random_state=18)"
      ]
     },
     "execution_count": 30,
     "metadata": {},
     "output_type": "execute_result"
    }
   ],
   "source": [
    "X_train, X_test, y_train, y_test = train_test_split(X, y, test_size=0.26, random_state=18)\n",
    "\n",
    "model = RandomForestRegressor(n_estimators=100, random_state=18)\n",
    "model.fit(X_train, y_train)"
   ]
  },
  {
   "cell_type": "code",
   "execution_count": 31,
   "metadata": {},
   "outputs": [
    {
     "name": "stdout",
     "output_type": "stream",
     "text": [
      "Mean Absolute Error: 0.25588773164068973\n"
     ]
    }
   ],
   "source": [
    "predictions = model.predict(X_test)\n",
    "mae = mean_absolute_error(y_test, predictions)\n",
    "print('Mean Absolute Error:', mae)"
   ]
  },
  {
   "cell_type": "code",
   "execution_count": 32,
   "metadata": {},
   "outputs": [],
   "source": [
    "# random_indices = np.random.choice(len(predictions), size=4, replace=False)\n",
    "\n",
    "# # Select the elements at the random indices\n",
    "# # random_elements = predictions[random_indices]\n",
    "\n",
    "# # Append the random elements to the predictions array\n",
    "# predictions = np.append(predictions, random_elements)"
   ]
  },
  {
   "cell_type": "code",
   "execution_count": 33,
   "metadata": {},
   "outputs": [
    {
     "data": {
      "text/plain": [
       "array([0.495     , 0.68442308, 0.42522436, 0.87753091, 0.87961538,\n",
       "       0.49258013, 0.92007692, 0.73572321, 0.78670559, 0.39048077,\n",
       "       0.92007692, 0.88225   , 0.88225   , 0.6825    , 0.61576923,\n",
       "       0.60326923, 0.87753091, 0.76940385])"
      ]
     },
     "execution_count": 33,
     "metadata": {},
     "output_type": "execute_result"
    }
   ],
   "source": [
    "predictions"
   ]
  },
  {
   "cell_type": "code",
   "execution_count": 34,
   "metadata": {},
   "outputs": [
    {
     "data": {
      "text/plain": [
       "18"
      ]
     },
     "execution_count": 34,
     "metadata": {},
     "output_type": "execute_result"
    }
   ],
   "source": [
    "len(predictions)"
   ]
  },
  {
   "cell_type": "code",
   "execution_count": 43,
   "metadata": {},
   "outputs": [
    {
     "name": "stdout",
     "output_type": "stream",
     "text": [
      "The given latitude and longitude is not present in the dataset.\n"
     ]
    }
   ],
   "source": [
    "lati = float(input(\"Enter the latitude: \"))\n",
    "longi = float(input(\"Enter the longitude: \"))\n",
    "\n",
    "state_code = dataset['STATE'][(dataset['latitude'] == lati) & (dataset['longitude'] == longi)].unique()\n",
    "if len(state_code) == 0:\n",
    "    print(\"The given latitude and longitude is not present in the dataset.\")\n",
    "else:\n",
    "    print(f\"The Property Loss Percentage of the given latitude: {lati} and longitude: {longi} is {(predictions[state_code[0]]*100)}%\")"
   ]
  },
  {
   "cell_type": "code",
   "execution_count": 41,
   "metadata": {},
   "outputs": [
    {
     "name": "stdout",
     "output_type": "stream",
     "text": [
      "The given latitude and longitude is not present in the dataset.\n"
     ]
    }
   ],
   "source": [
    "lati = float(input(\"Enter the latitude: \"))\n",
    "longi = float(input(\"Enter the longitude: \"))\n",
    "\n",
    "# Filter the dataset based on latitude and longitude\n",
    "filtered_data = dataset[(dataset['latitude'] == lati) & (dataset['longitude'] == longi)]\n",
    "\n",
    "# Get the unique state codes from the filtered data\n",
    "state_codes = filtered_data['STATE'].unique()\n",
    "\n",
    "if len(state_codes) == 0:\n",
    "    print(\"The given latitude and longitude is not present in the dataset.\")\n",
    "else:\n",
    "    # Assuming 'predictions' is a dictionary or Series with state codes as keys\n",
    "    state_code = state_codes[0]  # Take the first state code if multiple matches\n",
    "    property_loss_percentage = predictions[state_code] * 100\n",
    "    print(f\"The Property Loss Percentage of the given latitude: {lati} and longitude: {longi} is {property_loss_percentage}%\")"
   ]
  },
  {
   "cell_type": "code",
   "execution_count": 44,
   "metadata": {},
   "outputs": [
    {
     "name": "stderr",
     "output_type": "stream",
     "text": [
      "Exception in Tkinter callback\n",
      "Traceback (most recent call last):\n",
      "  File \"c:\\Users\\User\\AppData\\Local\\Programs\\Python\\Python312\\Lib\\tkinter\\__init__.py\", line 1967, in __call__\n",
      "    return self.func(*args)\n",
      "           ^^^^^^^^^^^^^^^^\n",
      "  File \"C:\\Users\\User\\AppData\\Local\\Temp\\ipykernel_3308\\3944522056.py\", line 70, in button_hover\n",
      "    button.config(bg=\"lightgreen2\")  # Change background color on hover\n",
      "    ^^^^^^^^^^^^^^^^^^^^^^^^^^^^^^^\n",
      "  File \"c:\\Users\\User\\AppData\\Local\\Programs\\Python\\Python312\\Lib\\tkinter\\__init__.py\", line 1721, in configure\n",
      "    return self._configure('configure', cnf, kw)\n",
      "           ^^^^^^^^^^^^^^^^^^^^^^^^^^^^^^^^^^^^^\n",
      "  File \"c:\\Users\\User\\AppData\\Local\\Programs\\Python\\Python312\\Lib\\tkinter\\__init__.py\", line 1711, in _configure\n",
      "    self.tk.call(_flatten((self._w, cmd)) + self._options(cnf))\n",
      "_tkinter.TclError: unknown color name \"lightgreen2\"\n"
     ]
    }
   ],
   "source": [
    "import tkinter as tk\n",
    "import pandas as pd  # Assuming your dataset is loaded into a pandas dataframe named 'dataset'\n",
    "from sklearn.model_selection import train_test_split  # Assuming you have a model named 'predictions'\n",
    "\n",
    "# Load your dataset (replace 'your_data.csv' with your actual file path)\n",
    "dataset = pd.read_csv('property_loss1541.csv')\n",
    "\n",
    "# Split data for training (replace with your actual training logic)\n",
    "X_train, X_test, y_train, y_test = train_test_split(dataset[['latitude', 'longitude']], dataset['property loss'], test_size=0.2)\n",
    "\n",
    "# Train your model (replace with your actual training logic)\n",
    "# ... (training code)\n",
    "\n",
    "def get_state_and_loss(lati, longi, windspeed):\n",
    "  state_code = dataset['STATE'][(dataset['latitude'] == lati) & (dataset['longitude'] == longi)].unique()\n",
    "  if len(state_code) == 0:\n",
    "    return \"Not Found\", None\n",
    "  else:\n",
    "    # Consider windspeed in your model prediction (replace with your actual logic)\n",
    "    loss_percentage = predictions[state_code[0]] * 100  # Modify to account for windspeed\n",
    "    return state_code[0], loss_percentage\n",
    "\n",
    "# Function to handle button click\n",
    "def button_click():\n",
    "  try:\n",
    "    lati = float(latitude_entry.get())\n",
    "    longi = float(longitude_entry.get())\n",
    "    windspeed = float(windspeed_entry.get())\n",
    "    state, loss = get_state_and_loss(lati, longi, windspeed)\n",
    "    if loss is None:\n",
    "      result_label.config(text=\"The given coordinates are not found in the dataset.\")\n",
    "    else:\n",
    "      result_label.config(text=f\"State Code: {state}\\nProperty Loss Percentage: {loss:.2f}%\")\n",
    "  except ValueError:\n",
    "    result_label.config(text=\"Invalid input. Please enter numerical values.\")\n",
    "\n",
    "# Initialize the main window\n",
    "root = tk.Tk()\n",
    "root.title(\"Property Loss Prediction App\")\n",
    "\n",
    "# Configure fonts and colors for attractiveness (adjust to your preference)\n",
    "default_font = (\"Arial\", 12)\n",
    "background_color = \"lightblue\"\n",
    "text_color = \"black\"\n",
    "button_color = \"lightgreen\"\n",
    "\n",
    "root.config(bg=background_color)\n",
    "\n",
    "# Create labels and entry fields\n",
    "latitude_label = tk.Label(root, text=\"Latitude:\", font=default_font, bg=background_color, fg=text_color)\n",
    "latitude_label.pack()\n",
    "latitude_entry = tk.Entry(root, font=default_font, bg=background_color)\n",
    "latitude_entry.pack()\n",
    "\n",
    "longitude_label = tk.Label(root, text=\"Longitude:\", font=default_font, bg=background_color, fg=text_color)\n",
    "longitude_label.pack()\n",
    "longitude_entry = tk.Entry(root, font=default_font, bg=background_color)\n",
    "longitude_entry.pack()\n",
    "\n",
    "windspeed_label = tk.Label(root, text=\"Wind Speed (km/h):\", font=default_font, bg=background_color, fg=text_color)\n",
    "windspeed_label.pack()\n",
    "windspeed_entry = tk.Entry(root, font=default_font, bg=background_color)\n",
    "windspeed_entry.pack()\n",
    "\n",
    "# Create a button with color and potential hover animation (using after method)\n",
    "button = tk.Button(root, text=\"Search\", command=button_click, font=default_font, bg=button_color)\n",
    "button.pack()\n",
    "\n",
    "def button_hover(event):\n",
    "  button.config(bg=\"lightgreen2\")  # Change background color on hover\n",
    "\n",
    "def button_leave(event):\n",
    "  button.config(bg=button_color)  # Change back to original color on leave\n",
    "\n",
    "button.bind(\"<Enter>\", button_hover)\n",
    "button.bind(\"<Leave>\", button_leave)\n",
    "\n",
    "# Create a label to display results\n",
    "result_label = tk.Label(root, text=\"\", font=default_font, bg=background_color, fg=text_color)\n",
    "result_label.pack()\n",
    "\n",
    "# Run the main loop\n",
    "root.mainloop()\n"
   ]
  }
 ],
 "metadata": {
  "kernelspec": {
   "display_name": "base",
   "language": "python",
   "name": "python3"
  },
  "language_info": {
   "codemirror_mode": {
    "name": "ipython",
    "version": 3
   },
   "file_extension": ".py",
   "mimetype": "text/x-python",
   "name": "python",
   "nbconvert_exporter": "python",
   "pygments_lexer": "ipython3",
   "version": "3.12.2"
  }
 },
 "nbformat": 4,
 "nbformat_minor": 2
}
