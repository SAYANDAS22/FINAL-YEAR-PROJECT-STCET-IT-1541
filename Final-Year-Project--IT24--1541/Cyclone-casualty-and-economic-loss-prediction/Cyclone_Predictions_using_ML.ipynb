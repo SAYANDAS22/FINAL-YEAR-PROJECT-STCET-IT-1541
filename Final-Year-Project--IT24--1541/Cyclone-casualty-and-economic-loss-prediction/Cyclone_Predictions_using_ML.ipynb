{
  "cells": [
    {
      "cell_type": "code",
      "execution_count": 1,
      "metadata": {
        "id": "mEp65ktCJlGu"
      },
      "outputs": [],
      "source": [
        "import pandas as pd\n",
        "import numpy as np\n",
        "from sklearn.model_selection import train_test_split\n",
        "from sklearn.linear_model import LinearRegression\n",
        "from sklearn.metrics import mean_absolute_percentage_error\n",
        "from sklearn.metrics import mean_squared_error"
      ]
    },
    {
      "cell_type": "code",
      "execution_count": 3,
      "metadata": {
        "id": "-APcKfQvKfwi"
      },
      "outputs": [],
      "source": [
        "# importing the dataset\n",
        "df = pd.read_csv('float_merged_updated1.csv')"
      ]
    },
    {
      "cell_type": "code",
      "execution_count": 4,
      "metadata": {
        "colab": {
          "base_uri": "https://localhost:8080/",
          "height": 521
        },
        "id": "Os8ir1_lKl1Y",
        "outputId": "c0682ca8-627d-438f-e9e6-11602a46cf04"
      },
      "outputs": [
        {
          "data": {
            "text/html": [
              "<div>\n",
              "<style scoped>\n",
              "    .dataframe tbody tr th:only-of-type {\n",
              "        vertical-align: middle;\n",
              "    }\n",
              "\n",
              "    .dataframe tbody tr th {\n",
              "        vertical-align: top;\n",
              "    }\n",
              "\n",
              "    .dataframe thead th {\n",
              "        text-align: right;\n",
              "    }\n",
              "</style>\n",
              "<table border=\"1\" class=\"dataframe\">\n",
              "  <thead>\n",
              "    <tr style=\"text-align: right;\">\n",
              "      <th></th>\n",
              "      <th>STATE</th>\n",
              "      <th>latitude</th>\n",
              "      <th>longitude</th>\n",
              "      <th>Number of Inhabited villages</th>\n",
              "      <th>Number of Uninhabited villages</th>\n",
              "      <th>Number of towns</th>\n",
              "      <th>Number of households</th>\n",
              "      <th>Total Population</th>\n",
              "      <th>Males Population</th>\n",
              "      <th>Females Population</th>\n",
              "      <th>Area (In sq. km)</th>\n",
              "      <th>Population per sq. km.</th>\n",
              "      <th>WIND SPEED</th>\n",
              "      <th>YEAR</th>\n",
              "      <th>STORM NAME</th>\n",
              "      <th>monetory loss</th>\n",
              "      <th>CASUALITIES</th>\n",
              "    </tr>\n",
              "  </thead>\n",
              "  <tbody>\n",
              "    <tr>\n",
              "      <th>0</th>\n",
              "      <td>ANDAMAN AND NICOBAR ISLANDS</td>\n",
              "      <td>0.108925</td>\n",
              "      <td>0.931385</td>\n",
              "      <td>0.529412</td>\n",
              "      <td>0.354839</td>\n",
              "      <td>0.6875</td>\n",
              "      <td>0.970588</td>\n",
              "      <td>0.647059</td>\n",
              "      <td>0.382353</td>\n",
              "      <td>0.205882</td>\n",
              "      <td>0.024017</td>\n",
              "      <td>0.71875</td>\n",
              "      <td>55</td>\n",
              "      <td>2013</td>\n",
              "      <td>0.075758</td>\n",
              "      <td>0.096154</td>\n",
              "      <td>0.021739</td>\n",
              "    </tr>\n",
              "    <tr>\n",
              "      <th>1</th>\n",
              "      <td>ANDAMAN AND NICOBAR ISLANDS</td>\n",
              "      <td>0.108925</td>\n",
              "      <td>0.931385</td>\n",
              "      <td>0.529412</td>\n",
              "      <td>0.354839</td>\n",
              "      <td>0.6875</td>\n",
              "      <td>0.970588</td>\n",
              "      <td>0.647059</td>\n",
              "      <td>0.382353</td>\n",
              "      <td>0.205882</td>\n",
              "      <td>0.024017</td>\n",
              "      <td>0.71875</td>\n",
              "      <td>120</td>\n",
              "      <td>2022</td>\n",
              "      <td>0.151515</td>\n",
              "      <td>0.538462</td>\n",
              "      <td>0.565217</td>\n",
              "    </tr>\n",
              "    <tr>\n",
              "      <th>2</th>\n",
              "      <td>ANDAMAN AND NICOBAR ISLANDS</td>\n",
              "      <td>0.108925</td>\n",
              "      <td>0.931385</td>\n",
              "      <td>0.529412</td>\n",
              "      <td>0.354839</td>\n",
              "      <td>0.6875</td>\n",
              "      <td>0.970588</td>\n",
              "      <td>0.647059</td>\n",
              "      <td>0.382353</td>\n",
              "      <td>0.205882</td>\n",
              "      <td>0.024017</td>\n",
              "      <td>0.71875</td>\n",
              "      <td>130</td>\n",
              "      <td>2018</td>\n",
              "      <td>0.257576</td>\n",
              "      <td>0.569231</td>\n",
              "      <td>0.652174</td>\n",
              "    </tr>\n",
              "    <tr>\n",
              "      <th>3</th>\n",
              "      <td>ANDAMAN AND NICOBAR ISLANDS</td>\n",
              "      <td>0.108925</td>\n",
              "      <td>0.931385</td>\n",
              "      <td>0.529412</td>\n",
              "      <td>0.354839</td>\n",
              "      <td>0.6875</td>\n",
              "      <td>0.970588</td>\n",
              "      <td>0.647059</td>\n",
              "      <td>0.382353</td>\n",
              "      <td>0.205882</td>\n",
              "      <td>0.024017</td>\n",
              "      <td>0.71875</td>\n",
              "      <td>100</td>\n",
              "      <td>2010</td>\n",
              "      <td>0.333333</td>\n",
              "      <td>0.461538</td>\n",
              "      <td>0.369565</td>\n",
              "    </tr>\n",
              "    <tr>\n",
              "      <th>4</th>\n",
              "      <td>ANDAMAN AND NICOBAR ISLANDS</td>\n",
              "      <td>0.108925</td>\n",
              "      <td>0.931385</td>\n",
              "      <td>0.529412</td>\n",
              "      <td>0.354839</td>\n",
              "      <td>0.6875</td>\n",
              "      <td>0.970588</td>\n",
              "      <td>0.647059</td>\n",
              "      <td>0.382353</td>\n",
              "      <td>0.205882</td>\n",
              "      <td>0.024017</td>\n",
              "      <td>0.71875</td>\n",
              "      <td>75</td>\n",
              "      <td>2017</td>\n",
              "      <td>0.454545</td>\n",
              "      <td>0.173077</td>\n",
              "      <td>0.043478</td>\n",
              "    </tr>\n",
              "  </tbody>\n",
              "</table>\n",
              "</div>"
            ],
            "text/plain": [
              "                         STATE  latitude  longitude  \\\n",
              "0  ANDAMAN AND NICOBAR ISLANDS  0.108925   0.931385   \n",
              "1  ANDAMAN AND NICOBAR ISLANDS  0.108925   0.931385   \n",
              "2  ANDAMAN AND NICOBAR ISLANDS  0.108925   0.931385   \n",
              "3  ANDAMAN AND NICOBAR ISLANDS  0.108925   0.931385   \n",
              "4  ANDAMAN AND NICOBAR ISLANDS  0.108925   0.931385   \n",
              "\n",
              "   Number of Inhabited villages  Number of Uninhabited villages  \\\n",
              "0                      0.529412                        0.354839   \n",
              "1                      0.529412                        0.354839   \n",
              "2                      0.529412                        0.354839   \n",
              "3                      0.529412                        0.354839   \n",
              "4                      0.529412                        0.354839   \n",
              "\n",
              "   Number of towns  Number of households  Total Population  Males Population  \\\n",
              "0           0.6875              0.970588          0.647059          0.382353   \n",
              "1           0.6875              0.970588          0.647059          0.382353   \n",
              "2           0.6875              0.970588          0.647059          0.382353   \n",
              "3           0.6875              0.970588          0.647059          0.382353   \n",
              "4           0.6875              0.970588          0.647059          0.382353   \n",
              "\n",
              "   Females Population  Area (In sq. km)  Population per sq. km.  WIND SPEED  \\\n",
              "0            0.205882          0.024017                 0.71875          55   \n",
              "1            0.205882          0.024017                 0.71875         120   \n",
              "2            0.205882          0.024017                 0.71875         130   \n",
              "3            0.205882          0.024017                 0.71875         100   \n",
              "4            0.205882          0.024017                 0.71875          75   \n",
              "\n",
              "   YEAR  STORM NAME  monetory loss  CASUALITIES  \n",
              "0  2013    0.075758       0.096154     0.021739  \n",
              "1  2022    0.151515       0.538462     0.565217  \n",
              "2  2018    0.257576       0.569231     0.652174  \n",
              "3  2010    0.333333       0.461538     0.369565  \n",
              "4  2017    0.454545       0.173077     0.043478  "
            ]
          },
          "execution_count": 4,
          "metadata": {},
          "output_type": "execute_result"
        }
      ],
      "source": [
        "df.head()"
      ]
    },
    {
      "cell_type": "code",
      "execution_count": 5,
      "metadata": {
        "colab": {
          "base_uri": "https://localhost:8080/"
        },
        "id": "42YW2z0PKm64",
        "outputId": "0b6558b4-ad3a-4a74-fe40-1a2fb7de690d"
      },
      "outputs": [
        {
          "data": {
            "text/plain": [
              "(67, 17)"
            ]
          },
          "execution_count": 5,
          "metadata": {},
          "output_type": "execute_result"
        }
      ],
      "source": [
        "df.shape"
      ]
    },
    {
      "cell_type": "code",
      "execution_count": 6,
      "metadata": {
        "id": "QXDL3G3uXySy"
      },
      "outputs": [],
      "source": [
        "states = df['STATE']"
      ]
    },
    {
      "cell_type": "code",
      "execution_count": 7,
      "metadata": {
        "colab": {
          "base_uri": "https://localhost:8080/"
        },
        "id": "KUhIKgHaX2zA",
        "outputId": "3bdaaedd-1c4a-47aa-ea25-8abb9f0ba886"
      },
      "outputs": [
        {
          "data": {
            "text/plain": [
              "['ANDAMAN AND NICOBAR ISLANDS',\n",
              " 'ANDHRA PRADESH',\n",
              " 'ASSAM',\n",
              " 'BIHAR',\n",
              " 'GOA',\n",
              " 'GUJARAT',\n",
              " 'KARNATAKA',\n",
              " 'KERALA',\n",
              " 'MADHYA PRADESH',\n",
              " 'MAHARASHTRA',\n",
              " 'MANIPUR',\n",
              " 'MEGHALAYA',\n",
              " 'MIZORAM',\n",
              " 'NAGALAND',\n",
              " 'ODISHA',\n",
              " 'TAMIL NADU',\n",
              " 'TRIPURA',\n",
              " 'WEST BENGAL']"
            ]
          },
          "execution_count": 7,
          "metadata": {},
          "output_type": "execute_result"
        }
      ],
      "source": [
        "states = states.unique().tolist()\n",
        "states"
      ]
    },
    {
      "cell_type": "code",
      "execution_count": 8,
      "metadata": {
        "id": "e6Cl0XGlzeRl"
      },
      "outputs": [],
      "source": [
        "# state_df = ''"
      ]
    },
    {
      "cell_type": "code",
      "execution_count": 9,
      "metadata": {
        "id": "KxkWBMURKs7S"
      },
      "outputs": [],
      "source": [
        "# state_df = df[df['STATE'] == 'ASSAM'][['WIND SPEED', 'monetory loss', 'CASUALITIES']]"
      ]
    },
    {
      "cell_type": "code",
      "execution_count": 10,
      "metadata": {
        "id": "4ppbmmuCLkho"
      },
      "outputs": [],
      "source": [
        "# state_df"
      ]
    },
    {
      "cell_type": "code",
      "execution_count": 11,
      "metadata": {
        "id": "hQG89zsKLmk2"
      },
      "outputs": [],
      "source": [
        "# x = state_df[['WIND SPEED']]"
      ]
    },
    {
      "cell_type": "markdown",
      "metadata": {
        "id": "dznYS2_aM0JH"
      },
      "source": [
        "# Training and Testing the model for Proerty loss and Its Prediction"
      ]
    },
    {
      "cell_type": "code",
      "execution_count": 12,
      "metadata": {
        "id": "Wdph8KbhM9NC"
      },
      "outputs": [],
      "source": [
        "# pl_y = state_df['monetory loss']"
      ]
    },
    {
      "cell_type": "code",
      "execution_count": 13,
      "metadata": {
        "id": "B3uEiXPvNFBo"
      },
      "outputs": [],
      "source": [
        "# x_train, x_test, pl_y_train, pl_y_test = train_test_split(x, pl_y, test_size=0.2, random_state=42)"
      ]
    },
    {
      "cell_type": "code",
      "execution_count": 14,
      "metadata": {
        "id": "k75Z5Y1lNnro"
      },
      "outputs": [],
      "source": [
        "# pl_lr = LinearRegression()"
      ]
    },
    {
      "cell_type": "code",
      "execution_count": 15,
      "metadata": {
        "id": "SeWmLXKnN-yH"
      },
      "outputs": [],
      "source": [
        "# pl_lr.fit(x_train, pl_y_train)"
      ]
    },
    {
      "cell_type": "code",
      "execution_count": 16,
      "metadata": {
        "id": "ck-eKHjhN0cY"
      },
      "outputs": [],
      "source": [
        "# pl_y_pred=pl_lr.predict(x_test)"
      ]
    },
    {
      "cell_type": "code",
      "execution_count": 17,
      "metadata": {
        "id": "rqeuFPaPN6oL"
      },
      "outputs": [],
      "source": [
        "# mse=mean_squared_error(pl_y_test, pl_y_pred)"
      ]
    },
    {
      "cell_type": "code",
      "execution_count": 18,
      "metadata": {
        "id": "amxQYf-QOZ3y"
      },
      "outputs": [],
      "source": [
        "# pl_lr.predict([[70]])[0]"
      ]
    },
    {
      "cell_type": "code",
      "execution_count": 19,
      "metadata": {
        "id": "Wr2W_WlYP1_4"
      },
      "outputs": [],
      "source": [
        "# def property_loss_prediction(wind_speed):\n",
        "#     return pl_lr.predict([[wind_speed]])[0].tolist()"
      ]
    },
    {
      "cell_type": "code",
      "execution_count": 20,
      "metadata": {
        "id": "__DaqumGQFWF"
      },
      "outputs": [],
      "source": [
        "# property_loss_prediction(70)"
      ]
    },
    {
      "cell_type": "markdown",
      "metadata": {
        "id": "KDKWjm2PQLzA"
      },
      "source": [
        "# Training and Testing the model for Casualties and Its Prediction"
      ]
    },
    {
      "cell_type": "code",
      "execution_count": 21,
      "metadata": {
        "id": "KjWGLlS7QJDG"
      },
      "outputs": [],
      "source": [
        "# c_y = state_df['CASUALITIES']"
      ]
    },
    {
      "cell_type": "code",
      "execution_count": 22,
      "metadata": {
        "id": "_qRv9FqPTFJQ"
      },
      "outputs": [],
      "source": [
        "# x_train, x_test, c_y_train, c_y_test = train_test_split(x, c_y, test_size=0.2, random_state=42)"
      ]
    },
    {
      "cell_type": "code",
      "execution_count": 23,
      "metadata": {
        "id": "lD0jJgEKTn2f"
      },
      "outputs": [],
      "source": [
        "# c_lr = LinearRegression()"
      ]
    },
    {
      "cell_type": "code",
      "execution_count": 24,
      "metadata": {
        "id": "teH97dIlTPTi"
      },
      "outputs": [],
      "source": [
        "# c_lr.fit(x_train, c_y_train)"
      ]
    },
    {
      "cell_type": "code",
      "execution_count": 25,
      "metadata": {
        "id": "7D9_xqrOTRdx"
      },
      "outputs": [],
      "source": [
        "# c_lr.predict([[70]])[0]"
      ]
    },
    {
      "cell_type": "code",
      "execution_count": 26,
      "metadata": {
        "id": "8hsYSF6jTroL"
      },
      "outputs": [],
      "source": [
        "# def casualties_prediction(wind_speed):\n",
        "#     return c_lr.predict([[wind_speed]])[0].tolist()"
      ]
    },
    {
      "cell_type": "code",
      "execution_count": 27,
      "metadata": {
        "id": "O_5XxTbXUCcY"
      },
      "outputs": [],
      "source": [
        "# casualties_prediction(70)"
      ]
    },
    {
      "cell_type": "markdown",
      "metadata": {
        "id": "vRC28C15UGkk"
      },
      "source": [
        "# Making Functions for whole"
      ]
    },
    {
      "cell_type": "code",
      "execution_count": 33,
      "metadata": {
        "id": "3HwojVYTUO2c"
      },
      "outputs": [],
      "source": [
        "def all_predictions(state, wind_speed):\n",
        "    # Training 80% and Testing 20%\n",
        "    state_df = df[df['STATE'] == state][['WIND SPEED', 'monetory loss', 'CASUALITIES']]\n",
        "    x = state_df[['WIND SPEED']]\n",
        "\n",
        "    # Training and Testing the model for Proerty loss and Its Prediction\n",
        "    pl_y = state_df['monetory loss']\n",
        "    x_train, x_test, pl_y_train, pl_y_test = train_test_split(x, pl_y, test_size=0.2, random_state=42)\n",
        "    pl_lr = LinearRegression()\n",
        "    pl_lr.fit(x_train, pl_y_train)\n",
        "    pl_y_pred=pl_lr.predict(x_test)\n",
        "    mse=mean_squared_error(pl_y_test, pl_y_pred)\n",
        "\n",
        "    def property_loss_prediction(wind_speed):\n",
        "        return pl_lr.predict([[wind_speed]])[0].tolist()\n",
        "\n",
        "    # Training and Testing the model for Casualties and Its Prediction\n",
        "    c_y = state_df['CASUALITIES']\n",
        "    x_train, x_test, c_y_train, c_y_test = train_test_split(x, c_y, test_size=0.2, random_state=42)\n",
        "    c_lr = LinearRegression()\n",
        "    c_lr.fit(x_train, c_y_train)\n",
        "    def casualties_prediction(wind_speed):\n",
        "        return c_lr.predict([[wind_speed]])[0].tolist()\n",
        "\n",
        "    # Getting the values\n",
        "    property_loss = property_loss_prediction(wind_speed)\n",
        "    casualties = casualties_prediction(wind_speed)\n",
        "    return (property_loss, casualties)"
      ]
    },
    {
      "cell_type": "code",
      "execution_count": 34,
      "metadata": {
        "colab": {
          "base_uri": "https://localhost:8080/"
        },
        "id": "4h72HMY3UniE",
        "outputId": "aa4d5a74-f676-4510-99b9-123fda36fe6b"
      },
      "outputs": [
        {
          "name": "stderr",
          "output_type": "stream",
          "text": [
            "C:\\Users\\User\\AppData\\Roaming\\Python\\Python312\\site-packages\\sklearn\\base.py:465: UserWarning: X does not have valid feature names, but LinearRegression was fitted with feature names\n",
            "  warnings.warn(\n",
            "C:\\Users\\User\\AppData\\Roaming\\Python\\Python312\\site-packages\\sklearn\\base.py:465: UserWarning: X does not have valid feature names, but LinearRegression was fitted with feature names\n",
            "  warnings.warn(\n"
          ]
        },
        {
          "data": {
            "text/plain": [
              "(0.7768401902876754, 0.8424740179033126)"
            ]
          },
          "execution_count": 34,
          "metadata": {},
          "output_type": "execute_result"
        }
      ],
      "source": [
        "all_predictions('WEST BENGAL', 150)"
      ]
    },
    {
      "cell_type": "markdown",
      "metadata": {
        "id": "4gYjNA0XU0dg"
      },
      "source": [
        "# Making a Gradio Application"
      ]
    },
    {
      "cell_type": "code",
      "execution_count": 41,
      "metadata": {
        "id": "13WkvdEMVEN4"
      },
      "outputs": [],
      "source": [
        "!pip install gradio -q"
      ]
    },
    {
      "cell_type": "code",
      "execution_count": 42,
      "metadata": {
        "id": "_FlPuKGBUtGm"
      },
      "outputs": [
        {
          "name": "stderr",
          "output_type": "stream",
          "text": [
            "c:\\Users\\User\\AppData\\Local\\Programs\\Python\\Python312\\Lib\\site-packages\\tqdm\\auto.py:21: TqdmWarning: IProgress not found. Please update jupyter and ipywidgets. See https://ipywidgets.readthedocs.io/en/stable/user_install.html\n",
            "  from .autonotebook import tqdm as notebook_tqdm\n"
          ]
        }
      ],
      "source": [
        "import gradio as gr"
      ]
    },
    {
      "cell_type": "code",
      "execution_count": 44,
      "metadata": {
        "colab": {
          "base_uri": "https://localhost:8080/",
          "height": 610
        },
        "id": "OEBlUkqWU-p-",
        "outputId": "5760735f-a5a6-4dfe-c4d8-752ac18521d5"
      },
      "outputs": [
        {
          "name": "stdout",
          "output_type": "stream",
          "text": [
            "Running on local URL:  http://127.0.0.1:7861\n",
            "\n",
            "Could not create share link. Please check your internet connection or our status page: https://status.gradio.app.\n"
          ]
        },
        {
          "data": {
            "text/html": [
              "<div><iframe src=\"http://127.0.0.1:7861/\" width=\"100%\" height=\"500\" allow=\"autoplay; camera; microphone; clipboard-read; clipboard-write;\" frameborder=\"0\" allowfullscreen></iframe></div>"
            ],
            "text/plain": [
              "<IPython.core.display.HTML object>"
            ]
          },
          "metadata": {},
          "output_type": "display_data"
        },
        {
          "data": {
            "text/plain": []
          },
          "execution_count": 44,
          "metadata": {},
          "output_type": "execute_result"
        },
        {
          "name": "stderr",
          "output_type": "stream",
          "text": [
            "Traceback (most recent call last):\n",
            "  File \"c:\\Users\\User\\AppData\\Local\\Programs\\Python\\Python312\\Lib\\site-packages\\gradio\\queueing.py\", line 527, in process_events\n",
            "    response = await route_utils.call_process_api(\n",
            "               ^^^^^^^^^^^^^^^^^^^^^^^^^^^^^^^^^^^\n",
            "  File \"c:\\Users\\User\\AppData\\Local\\Programs\\Python\\Python312\\Lib\\site-packages\\gradio\\route_utils.py\", line 270, in call_process_api\n",
            "    output = await app.get_blocks().process_api(\n",
            "             ^^^^^^^^^^^^^^^^^^^^^^^^^^^^^^^^^^^\n",
            "  File \"c:\\Users\\User\\AppData\\Local\\Programs\\Python\\Python312\\Lib\\site-packages\\gradio\\blocks.py\", line 1847, in process_api\n",
            "    result = await self.call_function(\n",
            "             ^^^^^^^^^^^^^^^^^^^^^^^^^\n",
            "  File \"c:\\Users\\User\\AppData\\Local\\Programs\\Python\\Python312\\Lib\\site-packages\\gradio\\blocks.py\", line 1433, in call_function\n",
            "    prediction = await anyio.to_thread.run_sync(\n",
            "                 ^^^^^^^^^^^^^^^^^^^^^^^^^^^^^^^\n",
            "  File \"c:\\Users\\User\\AppData\\Local\\Programs\\Python\\Python312\\Lib\\site-packages\\anyio\\to_thread.py\", line 56, in run_sync\n",
            "    return await get_async_backend().run_sync_in_worker_thread(\n",
            "           ^^^^^^^^^^^^^^^^^^^^^^^^^^^^^^^^^^^^^^^^^^^^^^^^^^^^\n",
            "  File \"c:\\Users\\User\\AppData\\Local\\Programs\\Python\\Python312\\Lib\\site-packages\\anyio\\_backends\\_asyncio.py\", line 2144, in run_sync_in_worker_thread\n",
            "    return await future\n",
            "           ^^^^^^^^^^^^\n",
            "  File \"c:\\Users\\User\\AppData\\Local\\Programs\\Python\\Python312\\Lib\\site-packages\\anyio\\_backends\\_asyncio.py\", line 851, in run\n",
            "    result = context.run(func, *args)\n",
            "             ^^^^^^^^^^^^^^^^^^^^^^^^\n",
            "  File \"c:\\Users\\User\\AppData\\Local\\Programs\\Python\\Python312\\Lib\\site-packages\\gradio\\utils.py\", line 805, in wrapper\n",
            "    response = f(*args, **kwargs)\n",
            "               ^^^^^^^^^^^^^^^^^^\n",
            "  File \"C:\\Users\\User\\AppData\\Local\\Temp\\ipykernel_2028\\2455581778.py\", line 8, in all_predictions\n",
            "    x_train, x_test, pl_y_train, pl_y_test = train_test_split(x, pl_y, test_size=0.2, random_state=42)\n",
            "                                             ^^^^^^^^^^^^^^^^^^^^^^^^^^^^^^^^^^^^^^^^^^^^^^^^^^^^^^^^^\n",
            "  File \"C:\\Users\\User\\AppData\\Roaming\\Python\\Python312\\site-packages\\sklearn\\utils\\_param_validation.py\", line 214, in wrapper\n",
            "    return func(*args, **kwargs)\n",
            "           ^^^^^^^^^^^^^^^^^^^^^\n",
            "  File \"C:\\Users\\User\\AppData\\Roaming\\Python\\Python312\\site-packages\\sklearn\\model_selection\\_split.py\", line 2649, in train_test_split\n",
            "    n_train, n_test = _validate_shuffle_split(\n",
            "                      ^^^^^^^^^^^^^^^^^^^^^^^^\n",
            "  File \"C:\\Users\\User\\AppData\\Roaming\\Python\\Python312\\site-packages\\sklearn\\model_selection\\_split.py\", line 2305, in _validate_shuffle_split\n",
            "    raise ValueError(\n",
            "ValueError: With n_samples=1, test_size=0.2 and train_size=None, the resulting train set will be empty. Adjust any of the aforementioned parameters.\n",
            "Traceback (most recent call last):\n",
            "  File \"c:\\Users\\User\\AppData\\Local\\Programs\\Python\\Python312\\Lib\\site-packages\\gradio\\queueing.py\", line 527, in process_events\n",
            "    response = await route_utils.call_process_api(\n",
            "               ^^^^^^^^^^^^^^^^^^^^^^^^^^^^^^^^^^^\n",
            "  File \"c:\\Users\\User\\AppData\\Local\\Programs\\Python\\Python312\\Lib\\site-packages\\gradio\\route_utils.py\", line 270, in call_process_api\n",
            "    output = await app.get_blocks().process_api(\n",
            "             ^^^^^^^^^^^^^^^^^^^^^^^^^^^^^^^^^^^\n",
            "  File \"c:\\Users\\User\\AppData\\Local\\Programs\\Python\\Python312\\Lib\\site-packages\\gradio\\blocks.py\", line 1847, in process_api\n",
            "    result = await self.call_function(\n",
            "             ^^^^^^^^^^^^^^^^^^^^^^^^^\n",
            "  File \"c:\\Users\\User\\AppData\\Local\\Programs\\Python\\Python312\\Lib\\site-packages\\gradio\\blocks.py\", line 1433, in call_function\n",
            "    prediction = await anyio.to_thread.run_sync(\n",
            "                 ^^^^^^^^^^^^^^^^^^^^^^^^^^^^^^^\n",
            "  File \"c:\\Users\\User\\AppData\\Local\\Programs\\Python\\Python312\\Lib\\site-packages\\anyio\\to_thread.py\", line 56, in run_sync\n",
            "    return await get_async_backend().run_sync_in_worker_thread(\n",
            "           ^^^^^^^^^^^^^^^^^^^^^^^^^^^^^^^^^^^^^^^^^^^^^^^^^^^^\n",
            "  File \"c:\\Users\\User\\AppData\\Local\\Programs\\Python\\Python312\\Lib\\site-packages\\anyio\\_backends\\_asyncio.py\", line 2144, in run_sync_in_worker_thread\n",
            "    return await future\n",
            "           ^^^^^^^^^^^^\n",
            "  File \"c:\\Users\\User\\AppData\\Local\\Programs\\Python\\Python312\\Lib\\site-packages\\anyio\\_backends\\_asyncio.py\", line 851, in run\n",
            "    result = context.run(func, *args)\n",
            "             ^^^^^^^^^^^^^^^^^^^^^^^^\n",
            "  File \"c:\\Users\\User\\AppData\\Local\\Programs\\Python\\Python312\\Lib\\site-packages\\gradio\\utils.py\", line 805, in wrapper\n",
            "    response = f(*args, **kwargs)\n",
            "               ^^^^^^^^^^^^^^^^^^\n",
            "  File \"C:\\Users\\User\\AppData\\Local\\Temp\\ipykernel_2028\\2455581778.py\", line 8, in all_predictions\n",
            "    x_train, x_test, pl_y_train, pl_y_test = train_test_split(x, pl_y, test_size=0.2, random_state=42)\n",
            "                                             ^^^^^^^^^^^^^^^^^^^^^^^^^^^^^^^^^^^^^^^^^^^^^^^^^^^^^^^^^\n",
            "  File \"C:\\Users\\User\\AppData\\Roaming\\Python\\Python312\\site-packages\\sklearn\\utils\\_param_validation.py\", line 214, in wrapper\n",
            "    return func(*args, **kwargs)\n",
            "           ^^^^^^^^^^^^^^^^^^^^^\n",
            "  File \"C:\\Users\\User\\AppData\\Roaming\\Python\\Python312\\site-packages\\sklearn\\model_selection\\_split.py\", line 2649, in train_test_split\n",
            "    n_train, n_test = _validate_shuffle_split(\n",
            "                      ^^^^^^^^^^^^^^^^^^^^^^^^\n",
            "  File \"C:\\Users\\User\\AppData\\Roaming\\Python\\Python312\\site-packages\\sklearn\\model_selection\\_split.py\", line 2305, in _validate_shuffle_split\n",
            "    raise ValueError(\n",
            "ValueError: With n_samples=1, test_size=0.2 and train_size=None, the resulting train set will be empty. Adjust any of the aforementioned parameters.\n",
            "Traceback (most recent call last):\n",
            "  File \"c:\\Users\\User\\AppData\\Local\\Programs\\Python\\Python312\\Lib\\site-packages\\gradio\\queueing.py\", line 527, in process_events\n",
            "    response = await route_utils.call_process_api(\n",
            "               ^^^^^^^^^^^^^^^^^^^^^^^^^^^^^^^^^^^\n",
            "  File \"c:\\Users\\User\\AppData\\Local\\Programs\\Python\\Python312\\Lib\\site-packages\\gradio\\route_utils.py\", line 270, in call_process_api\n",
            "    output = await app.get_blocks().process_api(\n",
            "             ^^^^^^^^^^^^^^^^^^^^^^^^^^^^^^^^^^^\n",
            "  File \"c:\\Users\\User\\AppData\\Local\\Programs\\Python\\Python312\\Lib\\site-packages\\gradio\\blocks.py\", line 1847, in process_api\n",
            "    result = await self.call_function(\n",
            "             ^^^^^^^^^^^^^^^^^^^^^^^^^\n",
            "  File \"c:\\Users\\User\\AppData\\Local\\Programs\\Python\\Python312\\Lib\\site-packages\\gradio\\blocks.py\", line 1433, in call_function\n",
            "    prediction = await anyio.to_thread.run_sync(\n",
            "                 ^^^^^^^^^^^^^^^^^^^^^^^^^^^^^^^\n",
            "  File \"c:\\Users\\User\\AppData\\Local\\Programs\\Python\\Python312\\Lib\\site-packages\\anyio\\to_thread.py\", line 56, in run_sync\n",
            "    return await get_async_backend().run_sync_in_worker_thread(\n",
            "           ^^^^^^^^^^^^^^^^^^^^^^^^^^^^^^^^^^^^^^^^^^^^^^^^^^^^\n",
            "  File \"c:\\Users\\User\\AppData\\Local\\Programs\\Python\\Python312\\Lib\\site-packages\\anyio\\_backends\\_asyncio.py\", line 2144, in run_sync_in_worker_thread\n",
            "    return await future\n",
            "           ^^^^^^^^^^^^\n",
            "  File \"c:\\Users\\User\\AppData\\Local\\Programs\\Python\\Python312\\Lib\\site-packages\\anyio\\_backends\\_asyncio.py\", line 851, in run\n",
            "    result = context.run(func, *args)\n",
            "             ^^^^^^^^^^^^^^^^^^^^^^^^\n",
            "  File \"c:\\Users\\User\\AppData\\Local\\Programs\\Python\\Python312\\Lib\\site-packages\\gradio\\utils.py\", line 805, in wrapper\n",
            "    response = f(*args, **kwargs)\n",
            "               ^^^^^^^^^^^^^^^^^^\n",
            "  File \"C:\\Users\\User\\AppData\\Local\\Temp\\ipykernel_2028\\2455581778.py\", line 8, in all_predictions\n",
            "    x_train, x_test, pl_y_train, pl_y_test = train_test_split(x, pl_y, test_size=0.2, random_state=42)\n",
            "                                             ^^^^^^^^^^^^^^^^^^^^^^^^^^^^^^^^^^^^^^^^^^^^^^^^^^^^^^^^^\n",
            "  File \"C:\\Users\\User\\AppData\\Roaming\\Python\\Python312\\site-packages\\sklearn\\utils\\_param_validation.py\", line 214, in wrapper\n",
            "    return func(*args, **kwargs)\n",
            "           ^^^^^^^^^^^^^^^^^^^^^\n",
            "  File \"C:\\Users\\User\\AppData\\Roaming\\Python\\Python312\\site-packages\\sklearn\\model_selection\\_split.py\", line 2649, in train_test_split\n",
            "    n_train, n_test = _validate_shuffle_split(\n",
            "                      ^^^^^^^^^^^^^^^^^^^^^^^^\n",
            "  File \"C:\\Users\\User\\AppData\\Roaming\\Python\\Python312\\site-packages\\sklearn\\model_selection\\_split.py\", line 2305, in _validate_shuffle_split\n",
            "    raise ValueError(\n",
            "ValueError: With n_samples=1, test_size=0.2 and train_size=None, the resulting train set will be empty. Adjust any of the aforementioned parameters.\n",
            "Traceback (most recent call last):\n",
            "  File \"c:\\Users\\User\\AppData\\Local\\Programs\\Python\\Python312\\Lib\\site-packages\\gradio\\queueing.py\", line 527, in process_events\n",
            "    response = await route_utils.call_process_api(\n",
            "               ^^^^^^^^^^^^^^^^^^^^^^^^^^^^^^^^^^^\n",
            "  File \"c:\\Users\\User\\AppData\\Local\\Programs\\Python\\Python312\\Lib\\site-packages\\gradio\\route_utils.py\", line 270, in call_process_api\n",
            "    output = await app.get_blocks().process_api(\n",
            "             ^^^^^^^^^^^^^^^^^^^^^^^^^^^^^^^^^^^\n",
            "  File \"c:\\Users\\User\\AppData\\Local\\Programs\\Python\\Python312\\Lib\\site-packages\\gradio\\blocks.py\", line 1847, in process_api\n",
            "    result = await self.call_function(\n",
            "             ^^^^^^^^^^^^^^^^^^^^^^^^^\n",
            "  File \"c:\\Users\\User\\AppData\\Local\\Programs\\Python\\Python312\\Lib\\site-packages\\gradio\\blocks.py\", line 1433, in call_function\n",
            "    prediction = await anyio.to_thread.run_sync(\n",
            "                 ^^^^^^^^^^^^^^^^^^^^^^^^^^^^^^^\n",
            "  File \"c:\\Users\\User\\AppData\\Local\\Programs\\Python\\Python312\\Lib\\site-packages\\anyio\\to_thread.py\", line 56, in run_sync\n",
            "    return await get_async_backend().run_sync_in_worker_thread(\n",
            "           ^^^^^^^^^^^^^^^^^^^^^^^^^^^^^^^^^^^^^^^^^^^^^^^^^^^^\n",
            "  File \"c:\\Users\\User\\AppData\\Local\\Programs\\Python\\Python312\\Lib\\site-packages\\anyio\\_backends\\_asyncio.py\", line 2144, in run_sync_in_worker_thread\n",
            "    return await future\n",
            "           ^^^^^^^^^^^^\n",
            "  File \"c:\\Users\\User\\AppData\\Local\\Programs\\Python\\Python312\\Lib\\site-packages\\anyio\\_backends\\_asyncio.py\", line 851, in run\n",
            "    result = context.run(func, *args)\n",
            "             ^^^^^^^^^^^^^^^^^^^^^^^^\n",
            "  File \"c:\\Users\\User\\AppData\\Local\\Programs\\Python\\Python312\\Lib\\site-packages\\gradio\\utils.py\", line 805, in wrapper\n",
            "    response = f(*args, **kwargs)\n",
            "               ^^^^^^^^^^^^^^^^^^\n",
            "  File \"C:\\Users\\User\\AppData\\Local\\Temp\\ipykernel_2028\\2455581778.py\", line 8, in all_predictions\n",
            "    x_train, x_test, pl_y_train, pl_y_test = train_test_split(x, pl_y, test_size=0.2, random_state=42)\n",
            "                                             ^^^^^^^^^^^^^^^^^^^^^^^^^^^^^^^^^^^^^^^^^^^^^^^^^^^^^^^^^\n",
            "  File \"C:\\Users\\User\\AppData\\Roaming\\Python\\Python312\\site-packages\\sklearn\\utils\\_param_validation.py\", line 214, in wrapper\n",
            "    return func(*args, **kwargs)\n",
            "           ^^^^^^^^^^^^^^^^^^^^^\n",
            "  File \"C:\\Users\\User\\AppData\\Roaming\\Python\\Python312\\site-packages\\sklearn\\model_selection\\_split.py\", line 2649, in train_test_split\n",
            "    n_train, n_test = _validate_shuffle_split(\n",
            "                      ^^^^^^^^^^^^^^^^^^^^^^^^\n",
            "  File \"C:\\Users\\User\\AppData\\Roaming\\Python\\Python312\\site-packages\\sklearn\\model_selection\\_split.py\", line 2305, in _validate_shuffle_split\n",
            "    raise ValueError(\n",
            "ValueError: With n_samples=1, test_size=0.2 and train_size=None, the resulting train set will be empty. Adjust any of the aforementioned parameters.\n",
            "Traceback (most recent call last):\n",
            "  File \"c:\\Users\\User\\AppData\\Local\\Programs\\Python\\Python312\\Lib\\site-packages\\gradio\\queueing.py\", line 527, in process_events\n",
            "    response = await route_utils.call_process_api(\n",
            "               ^^^^^^^^^^^^^^^^^^^^^^^^^^^^^^^^^^^\n",
            "  File \"c:\\Users\\User\\AppData\\Local\\Programs\\Python\\Python312\\Lib\\site-packages\\gradio\\route_utils.py\", line 270, in call_process_api\n",
            "    output = await app.get_blocks().process_api(\n",
            "             ^^^^^^^^^^^^^^^^^^^^^^^^^^^^^^^^^^^\n",
            "  File \"c:\\Users\\User\\AppData\\Local\\Programs\\Python\\Python312\\Lib\\site-packages\\gradio\\blocks.py\", line 1847, in process_api\n",
            "    result = await self.call_function(\n",
            "             ^^^^^^^^^^^^^^^^^^^^^^^^^\n",
            "  File \"c:\\Users\\User\\AppData\\Local\\Programs\\Python\\Python312\\Lib\\site-packages\\gradio\\blocks.py\", line 1433, in call_function\n",
            "    prediction = await anyio.to_thread.run_sync(\n",
            "                 ^^^^^^^^^^^^^^^^^^^^^^^^^^^^^^^\n",
            "  File \"c:\\Users\\User\\AppData\\Local\\Programs\\Python\\Python312\\Lib\\site-packages\\anyio\\to_thread.py\", line 56, in run_sync\n",
            "    return await get_async_backend().run_sync_in_worker_thread(\n",
            "           ^^^^^^^^^^^^^^^^^^^^^^^^^^^^^^^^^^^^^^^^^^^^^^^^^^^^\n",
            "  File \"c:\\Users\\User\\AppData\\Local\\Programs\\Python\\Python312\\Lib\\site-packages\\anyio\\_backends\\_asyncio.py\", line 2144, in run_sync_in_worker_thread\n",
            "    return await future\n",
            "           ^^^^^^^^^^^^\n",
            "  File \"c:\\Users\\User\\AppData\\Local\\Programs\\Python\\Python312\\Lib\\site-packages\\anyio\\_backends\\_asyncio.py\", line 851, in run\n",
            "    result = context.run(func, *args)\n",
            "             ^^^^^^^^^^^^^^^^^^^^^^^^\n",
            "  File \"c:\\Users\\User\\AppData\\Local\\Programs\\Python\\Python312\\Lib\\site-packages\\gradio\\utils.py\", line 805, in wrapper\n",
            "    response = f(*args, **kwargs)\n",
            "               ^^^^^^^^^^^^^^^^^^\n",
            "  File \"C:\\Users\\User\\AppData\\Local\\Temp\\ipykernel_2028\\2455581778.py\", line 8, in all_predictions\n",
            "    x_train, x_test, pl_y_train, pl_y_test = train_test_split(x, pl_y, test_size=0.2, random_state=42)\n",
            "                                             ^^^^^^^^^^^^^^^^^^^^^^^^^^^^^^^^^^^^^^^^^^^^^^^^^^^^^^^^^\n",
            "  File \"C:\\Users\\User\\AppData\\Roaming\\Python\\Python312\\site-packages\\sklearn\\utils\\_param_validation.py\", line 214, in wrapper\n",
            "    return func(*args, **kwargs)\n",
            "           ^^^^^^^^^^^^^^^^^^^^^\n",
            "  File \"C:\\Users\\User\\AppData\\Roaming\\Python\\Python312\\site-packages\\sklearn\\model_selection\\_split.py\", line 2649, in train_test_split\n",
            "    n_train, n_test = _validate_shuffle_split(\n",
            "                      ^^^^^^^^^^^^^^^^^^^^^^^^\n",
            "  File \"C:\\Users\\User\\AppData\\Roaming\\Python\\Python312\\site-packages\\sklearn\\model_selection\\_split.py\", line 2305, in _validate_shuffle_split\n",
            "    raise ValueError(\n",
            "ValueError: With n_samples=1, test_size=0.2 and train_size=None, the resulting train set will be empty. Adjust any of the aforementioned parameters.\n",
            "Traceback (most recent call last):\n",
            "  File \"c:\\Users\\User\\AppData\\Local\\Programs\\Python\\Python312\\Lib\\site-packages\\gradio\\queueing.py\", line 527, in process_events\n",
            "    response = await route_utils.call_process_api(\n",
            "               ^^^^^^^^^^^^^^^^^^^^^^^^^^^^^^^^^^^\n",
            "  File \"c:\\Users\\User\\AppData\\Local\\Programs\\Python\\Python312\\Lib\\site-packages\\gradio\\route_utils.py\", line 270, in call_process_api\n",
            "    output = await app.get_blocks().process_api(\n",
            "             ^^^^^^^^^^^^^^^^^^^^^^^^^^^^^^^^^^^\n",
            "  File \"c:\\Users\\User\\AppData\\Local\\Programs\\Python\\Python312\\Lib\\site-packages\\gradio\\blocks.py\", line 1847, in process_api\n",
            "    result = await self.call_function(\n",
            "             ^^^^^^^^^^^^^^^^^^^^^^^^^\n",
            "  File \"c:\\Users\\User\\AppData\\Local\\Programs\\Python\\Python312\\Lib\\site-packages\\gradio\\blocks.py\", line 1433, in call_function\n",
            "    prediction = await anyio.to_thread.run_sync(\n",
            "                 ^^^^^^^^^^^^^^^^^^^^^^^^^^^^^^^\n",
            "  File \"c:\\Users\\User\\AppData\\Local\\Programs\\Python\\Python312\\Lib\\site-packages\\anyio\\to_thread.py\", line 56, in run_sync\n",
            "    return await get_async_backend().run_sync_in_worker_thread(\n",
            "           ^^^^^^^^^^^^^^^^^^^^^^^^^^^^^^^^^^^^^^^^^^^^^^^^^^^^\n",
            "  File \"c:\\Users\\User\\AppData\\Local\\Programs\\Python\\Python312\\Lib\\site-packages\\anyio\\_backends\\_asyncio.py\", line 2144, in run_sync_in_worker_thread\n",
            "    return await future\n",
            "           ^^^^^^^^^^^^\n",
            "  File \"c:\\Users\\User\\AppData\\Local\\Programs\\Python\\Python312\\Lib\\site-packages\\anyio\\_backends\\_asyncio.py\", line 851, in run\n",
            "    result = context.run(func, *args)\n",
            "             ^^^^^^^^^^^^^^^^^^^^^^^^\n",
            "  File \"c:\\Users\\User\\AppData\\Local\\Programs\\Python\\Python312\\Lib\\site-packages\\gradio\\utils.py\", line 805, in wrapper\n",
            "    response = f(*args, **kwargs)\n",
            "               ^^^^^^^^^^^^^^^^^^\n",
            "  File \"C:\\Users\\User\\AppData\\Local\\Temp\\ipykernel_2028\\2455581778.py\", line 8, in all_predictions\n",
            "    x_train, x_test, pl_y_train, pl_y_test = train_test_split(x, pl_y, test_size=0.2, random_state=42)\n",
            "                                             ^^^^^^^^^^^^^^^^^^^^^^^^^^^^^^^^^^^^^^^^^^^^^^^^^^^^^^^^^\n",
            "  File \"C:\\Users\\User\\AppData\\Roaming\\Python\\Python312\\site-packages\\sklearn\\utils\\_param_validation.py\", line 214, in wrapper\n",
            "    return func(*args, **kwargs)\n",
            "           ^^^^^^^^^^^^^^^^^^^^^\n",
            "  File \"C:\\Users\\User\\AppData\\Roaming\\Python\\Python312\\site-packages\\sklearn\\model_selection\\_split.py\", line 2649, in train_test_split\n",
            "    n_train, n_test = _validate_shuffle_split(\n",
            "                      ^^^^^^^^^^^^^^^^^^^^^^^^\n",
            "  File \"C:\\Users\\User\\AppData\\Roaming\\Python\\Python312\\site-packages\\sklearn\\model_selection\\_split.py\", line 2305, in _validate_shuffle_split\n",
            "    raise ValueError(\n",
            "ValueError: With n_samples=1, test_size=0.2 and train_size=None, the resulting train set will be empty. Adjust any of the aforementioned parameters.\n",
            "Traceback (most recent call last):\n",
            "  File \"c:\\Users\\User\\AppData\\Local\\Programs\\Python\\Python312\\Lib\\site-packages\\gradio\\queueing.py\", line 527, in process_events\n",
            "    response = await route_utils.call_process_api(\n",
            "               ^^^^^^^^^^^^^^^^^^^^^^^^^^^^^^^^^^^\n",
            "  File \"c:\\Users\\User\\AppData\\Local\\Programs\\Python\\Python312\\Lib\\site-packages\\gradio\\route_utils.py\", line 270, in call_process_api\n",
            "    output = await app.get_blocks().process_api(\n",
            "             ^^^^^^^^^^^^^^^^^^^^^^^^^^^^^^^^^^^\n",
            "  File \"c:\\Users\\User\\AppData\\Local\\Programs\\Python\\Python312\\Lib\\site-packages\\gradio\\blocks.py\", line 1847, in process_api\n",
            "    result = await self.call_function(\n",
            "             ^^^^^^^^^^^^^^^^^^^^^^^^^\n",
            "  File \"c:\\Users\\User\\AppData\\Local\\Programs\\Python\\Python312\\Lib\\site-packages\\gradio\\blocks.py\", line 1433, in call_function\n",
            "    prediction = await anyio.to_thread.run_sync(\n",
            "                 ^^^^^^^^^^^^^^^^^^^^^^^^^^^^^^^\n",
            "  File \"c:\\Users\\User\\AppData\\Local\\Programs\\Python\\Python312\\Lib\\site-packages\\anyio\\to_thread.py\", line 56, in run_sync\n",
            "    return await get_async_backend().run_sync_in_worker_thread(\n",
            "           ^^^^^^^^^^^^^^^^^^^^^^^^^^^^^^^^^^^^^^^^^^^^^^^^^^^^\n",
            "  File \"c:\\Users\\User\\AppData\\Local\\Programs\\Python\\Python312\\Lib\\site-packages\\anyio\\_backends\\_asyncio.py\", line 2144, in run_sync_in_worker_thread\n",
            "    return await future\n",
            "           ^^^^^^^^^^^^\n",
            "  File \"c:\\Users\\User\\AppData\\Local\\Programs\\Python\\Python312\\Lib\\site-packages\\anyio\\_backends\\_asyncio.py\", line 851, in run\n",
            "    result = context.run(func, *args)\n",
            "             ^^^^^^^^^^^^^^^^^^^^^^^^\n",
            "  File \"c:\\Users\\User\\AppData\\Local\\Programs\\Python\\Python312\\Lib\\site-packages\\gradio\\utils.py\", line 805, in wrapper\n",
            "    response = f(*args, **kwargs)\n",
            "               ^^^^^^^^^^^^^^^^^^\n",
            "  File \"C:\\Users\\User\\AppData\\Local\\Temp\\ipykernel_2028\\2455581778.py\", line 8, in all_predictions\n",
            "    x_train, x_test, pl_y_train, pl_y_test = train_test_split(x, pl_y, test_size=0.2, random_state=42)\n",
            "                                             ^^^^^^^^^^^^^^^^^^^^^^^^^^^^^^^^^^^^^^^^^^^^^^^^^^^^^^^^^\n",
            "  File \"C:\\Users\\User\\AppData\\Roaming\\Python\\Python312\\site-packages\\sklearn\\utils\\_param_validation.py\", line 214, in wrapper\n",
            "    return func(*args, **kwargs)\n",
            "           ^^^^^^^^^^^^^^^^^^^^^\n",
            "  File \"C:\\Users\\User\\AppData\\Roaming\\Python\\Python312\\site-packages\\sklearn\\model_selection\\_split.py\", line 2649, in train_test_split\n",
            "    n_train, n_test = _validate_shuffle_split(\n",
            "                      ^^^^^^^^^^^^^^^^^^^^^^^^\n",
            "  File \"C:\\Users\\User\\AppData\\Roaming\\Python\\Python312\\site-packages\\sklearn\\model_selection\\_split.py\", line 2305, in _validate_shuffle_split\n",
            "    raise ValueError(\n",
            "ValueError: With n_samples=1, test_size=0.2 and train_size=None, the resulting train set will be empty. Adjust any of the aforementioned parameters.\n",
            "Traceback (most recent call last):\n",
            "  File \"c:\\Users\\User\\AppData\\Local\\Programs\\Python\\Python312\\Lib\\site-packages\\gradio\\queueing.py\", line 527, in process_events\n",
            "    response = await route_utils.call_process_api(\n",
            "               ^^^^^^^^^^^^^^^^^^^^^^^^^^^^^^^^^^^\n",
            "  File \"c:\\Users\\User\\AppData\\Local\\Programs\\Python\\Python312\\Lib\\site-packages\\gradio\\route_utils.py\", line 270, in call_process_api\n",
            "    output = await app.get_blocks().process_api(\n",
            "             ^^^^^^^^^^^^^^^^^^^^^^^^^^^^^^^^^^^\n",
            "  File \"c:\\Users\\User\\AppData\\Local\\Programs\\Python\\Python312\\Lib\\site-packages\\gradio\\blocks.py\", line 1847, in process_api\n",
            "    result = await self.call_function(\n",
            "             ^^^^^^^^^^^^^^^^^^^^^^^^^\n",
            "  File \"c:\\Users\\User\\AppData\\Local\\Programs\\Python\\Python312\\Lib\\site-packages\\gradio\\blocks.py\", line 1433, in call_function\n",
            "    prediction = await anyio.to_thread.run_sync(\n",
            "                 ^^^^^^^^^^^^^^^^^^^^^^^^^^^^^^^\n",
            "  File \"c:\\Users\\User\\AppData\\Local\\Programs\\Python\\Python312\\Lib\\site-packages\\anyio\\to_thread.py\", line 56, in run_sync\n",
            "    return await get_async_backend().run_sync_in_worker_thread(\n",
            "           ^^^^^^^^^^^^^^^^^^^^^^^^^^^^^^^^^^^^^^^^^^^^^^^^^^^^\n",
            "  File \"c:\\Users\\User\\AppData\\Local\\Programs\\Python\\Python312\\Lib\\site-packages\\anyio\\_backends\\_asyncio.py\", line 2144, in run_sync_in_worker_thread\n",
            "    return await future\n",
            "           ^^^^^^^^^^^^\n",
            "  File \"c:\\Users\\User\\AppData\\Local\\Programs\\Python\\Python312\\Lib\\site-packages\\anyio\\_backends\\_asyncio.py\", line 851, in run\n",
            "    result = context.run(func, *args)\n",
            "             ^^^^^^^^^^^^^^^^^^^^^^^^\n",
            "  File \"c:\\Users\\User\\AppData\\Local\\Programs\\Python\\Python312\\Lib\\site-packages\\gradio\\utils.py\", line 805, in wrapper\n",
            "    response = f(*args, **kwargs)\n",
            "               ^^^^^^^^^^^^^^^^^^\n",
            "  File \"C:\\Users\\User\\AppData\\Local\\Temp\\ipykernel_2028\\2455581778.py\", line 8, in all_predictions\n",
            "    x_train, x_test, pl_y_train, pl_y_test = train_test_split(x, pl_y, test_size=0.2, random_state=42)\n",
            "                                             ^^^^^^^^^^^^^^^^^^^^^^^^^^^^^^^^^^^^^^^^^^^^^^^^^^^^^^^^^\n",
            "  File \"C:\\Users\\User\\AppData\\Roaming\\Python\\Python312\\site-packages\\sklearn\\utils\\_param_validation.py\", line 214, in wrapper\n",
            "    return func(*args, **kwargs)\n",
            "           ^^^^^^^^^^^^^^^^^^^^^\n",
            "  File \"C:\\Users\\User\\AppData\\Roaming\\Python\\Python312\\site-packages\\sklearn\\model_selection\\_split.py\", line 2649, in train_test_split\n",
            "    n_train, n_test = _validate_shuffle_split(\n",
            "                      ^^^^^^^^^^^^^^^^^^^^^^^^\n",
            "  File \"C:\\Users\\User\\AppData\\Roaming\\Python\\Python312\\site-packages\\sklearn\\model_selection\\_split.py\", line 2305, in _validate_shuffle_split\n",
            "    raise ValueError(\n",
            "ValueError: With n_samples=1, test_size=0.2 and train_size=None, the resulting train set will be empty. Adjust any of the aforementioned parameters.\n"
          ]
        }
      ],
      "source": [
        "import warnings\n",
        "warnings.filterwarnings(\"ignore\")\n",
        "cyclone_predictor = gr.Interface(\n",
        "    title = 'Cyclone Predictor',\n",
        "    description = 'It takes the wind speed as km/h and returns the predicted property loss and casualties',\n",
        "    fn = all_predictions,\n",
        "    inputs = [gr.Dropdown(states, label='Select the State'),\n",
        "                gr.Number(label='Enter the wind speed in km/h')\n",
        "            ],\n",
        "    outputs = [gr.Number(label='The Predicted Property Loss'),\n",
        "               gr.Number(label='The Predicted Casualties')\n",
        "            ]\n",
        ")\n",
        "\n",
        "cyclone_predictor.launch(share=True)"
      ]
    }
  ],
  "metadata": {
    "colab": {
      "provenance": []
    },
    "kernelspec": {
      "display_name": "Python 3",
      "name": "python3"
    },
    "language_info": {
      "codemirror_mode": {
        "name": "ipython",
        "version": 3
      },
      "file_extension": ".py",
      "mimetype": "text/x-python",
      "name": "python",
      "nbconvert_exporter": "python",
      "pygments_lexer": "ipython3",
      "version": "3.12.2"
    }
  },
  "nbformat": 4,
  "nbformat_minor": 0
}
